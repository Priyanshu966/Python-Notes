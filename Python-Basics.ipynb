{
 "cells": [
  {
   "cell_type": "markdown",
   "id": "cb30d42f-406c-4b63-bda5-15cd3de512ce",
   "metadata": {},
   "source": [
    "# My First Project\n",
    "This is just for practice"
   ]
  },
  {
   "cell_type": "markdown",
   "id": "0f14c736-95d2-418c-93c7-87289a252964",
   "metadata": {},
   "source": [
    "## Some useful functions"
   ]
  },
  {
   "cell_type": "code",
   "execution_count": 2,
   "id": "1058a098-c2f4-475c-85c1-06a67e7d809a",
   "metadata": {},
   "outputs": [
    {
     "name": "stdin",
     "output_type": "stream",
     "text": [
      " hello\n"
     ]
    },
    {
     "data": {
      "text/plain": [
       "'hello'"
      ]
     },
     "execution_count": 2,
     "metadata": {},
     "output_type": "execute_result"
    }
   ],
   "source": [
    "## This is used for commenting texts\n",
    "## input is used to get input from the users\n",
    "input()"
   ]
  },
  {
   "cell_type": "code",
   "execution_count": 5,
   "id": "9ed0df47-38f8-43e6-a349-e6a2f7c8df82",
   "metadata": {},
   "outputs": [
    {
     "name": "stdin",
     "output_type": "stream",
     "text": [
      "Please enter your name\n",
      " Sam\n"
     ]
    },
    {
     "data": {
      "text/plain": [
       "'Sam'"
      ]
     },
     "execution_count": 5,
     "metadata": {},
     "output_type": "execute_result"
    }
   ],
   "source": [
    "## We can specify the msg that we want to show while taking input as parameter inside input method\n",
    "input(\"Please enter your name\\n\")"
   ]
  },
  {
   "cell_type": "code",
   "execution_count": 28,
   "id": "9bdca4ad-03bb-4b0f-bb45-85cdf42aaef2",
   "metadata": {},
   "outputs": [
    {
     "data": {
      "text/plain": [
       "range(0, 5)"
      ]
     },
     "execution_count": 28,
     "metadata": {},
     "output_type": "execute_result"
    }
   ],
   "source": [
    "## range is used to get range and can be used in multiple ways with severral data types and functions\n",
    "range(5)"
   ]
  },
  {
   "cell_type": "code",
   "execution_count": 29,
   "id": "b136a481-c135-49bd-a194-ec12fe64405d",
   "metadata": {},
   "outputs": [
    {
     "data": {
      "text/plain": [
       "range(2, 5)"
      ]
     },
     "execution_count": 29,
     "metadata": {},
     "output_type": "execute_result"
    }
   ],
   "source": [
    "range(2,5)"
   ]
  },
  {
   "cell_type": "code",
   "execution_count": 25,
   "id": "1bc8b670-54ad-48a7-b296-eb99a2466c26",
   "metadata": {},
   "outputs": [
    {
     "data": {
      "text/plain": [
       "float"
      ]
     },
     "execution_count": 25,
     "metadata": {},
     "output_type": "execute_result"
    }
   ],
   "source": [
    "##This tells us the type of any data types\n",
    "type(2.5)"
   ]
  },
  {
   "cell_type": "code",
   "execution_count": null,
   "id": "184be3ad-ba9d-4471-9608-e5fdbd9485d7",
   "metadata": {},
   "outputs": [],
   "source": []
  },
  {
   "cell_type": "markdown",
   "id": "dc2d63f9-2eb4-41ef-b7be-0d27ae62a0b1",
   "metadata": {},
   "source": [
    "## Arithmatic Operators"
   ]
  },
  {
   "cell_type": "code",
   "execution_count": 2,
   "id": "55c9f8f0-56f5-4746-8ec1-4939ddc6b2bc",
   "metadata": {},
   "outputs": [
    {
     "name": "stdout",
     "output_type": "stream",
     "text": [
      "25\n"
     ]
    }
   ],
   "source": [
    "a = 1 + 1\n",
    "b = 1 - 1\n",
    "c = 1 * 1\n",
    "d = 5 / 2\n",
    "e = 5 // 2\n",
    "f = 5 ** 2\n",
    "\n",
    "print(f)"
   ]
  },
  {
   "cell_type": "markdown",
   "id": "a1b3f439-1436-446d-a6f3-842a10764ea6",
   "metadata": {},
   "source": [
    "## Assignment Operator"
   ]
  },
  {
   "cell_type": "code",
   "execution_count": 3,
   "id": "a964818b-251c-4646-a555-39efbad736f0",
   "metadata": {},
   "outputs": [],
   "source": [
    "a = 7\n",
    "b = a"
   ]
  },
  {
   "cell_type": "markdown",
   "id": "46ba373b-db87-48f4-927e-67ba15ffc0b1",
   "metadata": {},
   "source": [
    "## Comparison Operator"
   ]
  },
  {
   "cell_type": "code",
   "execution_count": 5,
   "id": "55147b26-f4dd-4a29-9397-0b6da889ae14",
   "metadata": {},
   "outputs": [
    {
     "name": "stdout",
     "output_type": "stream",
     "text": [
      "True\n"
     ]
    }
   ],
   "source": [
    "a = 5 == 5\n",
    "b = 5 <= 4\n",
    "c = 5 >= 4\n",
    "d = 5 < 4\n",
    "e = 5 > 4\n",
    "\n",
    "print(a)"
   ]
  },
  {
   "cell_type": "markdown",
   "id": "ccd13749-a79d-4c72-b3b0-7c14f677b3ad",
   "metadata": {},
   "source": [
    "## Logic Operator"
   ]
  },
  {
   "cell_type": "code",
   "execution_count": 7,
   "id": "b72c21cb-5baa-4ffe-9da5-97b591bcb7f6",
   "metadata": {},
   "outputs": [
    {
     "name": "stdout",
     "output_type": "stream",
     "text": [
      "True\n"
     ]
    }
   ],
   "source": [
    "a = (5 <= 6) and (6 >= 8)\n",
    "b = (5 <= 6) or (6 >= 8)\n",
    "\n",
    "print(b)"
   ]
  },
  {
   "cell_type": "markdown",
   "id": "586ea12a-115b-4bdb-84c1-89186cad2583",
   "metadata": {},
   "source": [
    "## Conditionals"
   ]
  },
  {
   "cell_type": "code",
   "execution_count": 10,
   "id": "434078ef-c690-4ba0-b05c-defe986774cb",
   "metadata": {},
   "outputs": [
    {
     "name": "stdout",
     "output_type": "stream",
     "text": [
      "greater than one and less than ten\n"
     ]
    }
   ],
   "source": [
    "a = 2\n",
    "\n",
    "if a <= 1 :\n",
    "    print('less than one')\n",
    "elif a > 1 and a <= 10:\n",
    "    print('greater than one and less than ten')\n",
    "else:\n",
    "    print('greater than ten')\n",
    "\n"
   ]
  },
  {
   "cell_type": "markdown",
   "id": "bf47eb60-a25f-4756-a69b-b4088470f323",
   "metadata": {},
   "source": [
    "## Loops"
   ]
  },
  {
   "cell_type": "markdown",
   "id": "eb24bd6b-f117-4883-9206-9f91585b1ac4",
   "metadata": {},
   "source": [
    "* While-Loops"
   ]
  },
  {
   "cell_type": "code",
   "execution_count": 15,
   "id": "1dd1c089-6d2b-4203-8f3a-4a0f97ab549e",
   "metadata": {},
   "outputs": [
    {
     "name": "stdout",
     "output_type": "stream",
     "text": [
      "1\n",
      "2\n",
      "3\n",
      "4\n"
     ]
    }
   ],
   "source": [
    "a = 1\n",
    "\n",
    "while a <= 4:\n",
    "    print(a)\n",
    "    a = a + 1\n",
    "\n"
   ]
  },
  {
   "cell_type": "markdown",
   "id": "5ec7ad56-9f39-4034-b256-b6fc0ae28fd0",
   "metadata": {},
   "source": [
    "* for-Loops"
   ]
  },
  {
   "cell_type": "code",
   "execution_count": 14,
   "id": "63005550-2d09-4199-8934-b2eec60b5355",
   "metadata": {},
   "outputs": [
    {
     "name": "stdout",
     "output_type": "stream",
     "text": [
      "5\n",
      "6\n",
      "8\n",
      "9\n"
     ]
    }
   ],
   "source": [
    "a = [5,6,8,9]\n",
    "\n",
    "for x in b:\n",
    "    print(x)"
   ]
  },
  {
   "cell_type": "code",
   "execution_count": 16,
   "id": "3b37f3f0-ac9b-47ff-b75d-fb4adc009c94",
   "metadata": {},
   "outputs": [
    {
     "name": "stdout",
     "output_type": "stream",
     "text": [
      "0\n",
      "1\n",
      "2\n",
      "3\n",
      "4\n"
     ]
    }
   ],
   "source": [
    "for x in range(5):\n",
    "    print(x)"
   ]
  },
  {
   "cell_type": "markdown",
   "id": "b64baa79-460b-4167-886d-c815559d8531",
   "metadata": {},
   "source": [
    "## Functions"
   ]
  },
  {
   "cell_type": "code",
   "execution_count": 35,
   "id": "766f04a6-aa4b-4d5d-9dcb-fb89c6b123b1",
   "metadata": {},
   "outputs": [
    {
     "name": "stdout",
     "output_type": "stream",
     "text": [
      "25\n"
     ]
    }
   ],
   "source": [
    "def print_square(num):\n",
    "    print(num ** 2)\n",
    "\n",
    "print_square(5)"
   ]
  },
  {
   "cell_type": "code",
   "execution_count": 18,
   "id": "09483ee9-231c-4796-8133-707c4c798bfb",
   "metadata": {},
   "outputs": [
    {
     "name": "stdout",
     "output_type": "stream",
     "text": [
      "36\n"
     ]
    }
   ],
   "source": [
    "def return_square(num):\n",
    "    return num ** 2\n",
    "\n",
    "a = return_square(6)\n",
    "print(a)"
   ]
  },
  {
   "cell_type": "markdown",
   "id": "57510261-b888-45cd-bbb7-0a5c0dddae2e",
   "metadata": {},
   "source": [
    "* Anonymous-Function"
   ]
  },
  {
   "cell_type": "code",
   "execution_count": 21,
   "id": "24708daf-2cce-4f59-8e44-a75a24b1c3c7",
   "metadata": {},
   "outputs": [
    {
     "data": {
      "text/plain": [
       "<function __main__.<lambda>(var)>"
      ]
     },
     "execution_count": 21,
     "metadata": {},
     "output_type": "execute_result"
    }
   ],
   "source": [
    "lambda var: print(5 ** 2)"
   ]
  },
  {
   "cell_type": "markdown",
   "id": "23fa1cf4-5e5b-4653-b70a-97dd6bf47365",
   "metadata": {},
   "source": [
    "## Data Types"
   ]
  },
  {
   "cell_type": "code",
   "execution_count": 30,
   "id": "af73fbf6-5a55-4504-8559-3a9fb64fe994",
   "metadata": {},
   "outputs": [
    {
     "name": "stdout",
     "output_type": "stream",
     "text": [
      "{1, 2, 3, 4, 7}\n"
     ]
    }
   ],
   "source": [
    "## 1.Numbers\n",
    "num1 = 4\n",
    "num2 = 2.5\n",
    "\n",
    "## 2.Strings\n",
    "str1 = 'hello,world'\n",
    "str2 = 'a'\n",
    "\n",
    "## 3.Lists - It is mutable\n",
    "list = [1,2,3,4,5]\n",
    "\n",
    "## 4.Dictionaries - It is object in python\n",
    "dict = {'key1':'item1','key2':'item2'}\n",
    "\n",
    "## 5.Tuples - It is an immutable array\n",
    "tup = (1,2,3,4)\n",
    "\n",
    "## 6.Sets - It is array where repeated elements get removed\n",
    "sets = {1,2,2,2,3,3,7,4,4,2}\n",
    "\n",
    "print(sets)"
   ]
  },
  {
   "cell_type": "code",
   "execution_count": 31,
   "id": "05a3ab31-c191-4f49-9a85-657f09ece582",
   "metadata": {},
   "outputs": [
    {
     "data": {
      "text/plain": [
       "[8, 2, 3, 4, 5]"
      ]
     },
     "execution_count": 31,
     "metadata": {},
     "output_type": "execute_result"
    }
   ],
   "source": [
    "list[0] = 8\n",
    "list"
   ]
  },
  {
   "cell_type": "code",
   "execution_count": 32,
   "id": "5ec9c4ea-5e35-4e0b-a4be-6d11e57b378d",
   "metadata": {},
   "outputs": [
    {
     "ename": "TypeError",
     "evalue": "'tuple' object does not support item assignment",
     "output_type": "error",
     "traceback": [
      "\u001b[1;31m---------------------------------------------------------------------------\u001b[0m",
      "\u001b[1;31mTypeError\u001b[0m                                 Traceback (most recent call last)",
      "Cell \u001b[1;32mIn[32], line 1\u001b[0m\n\u001b[1;32m----> 1\u001b[0m tup[\u001b[38;5;241m0\u001b[39m] \u001b[38;5;241m=\u001b[39m \u001b[38;5;241m8\u001b[39m\n\u001b[0;32m      2\u001b[0m tup\n",
      "\u001b[1;31mTypeError\u001b[0m: 'tuple' object does not support item assignment"
     ]
    }
   ],
   "source": [
    "tup[0] = 8\n",
    "tup"
   ]
  },
  {
   "cell_type": "code",
   "execution_count": 8,
   "id": "6497714c-c3ed-45c6-89b6-1bddfabdd401",
   "metadata": {},
   "outputs": [
    {
     "data": {
      "text/plain": [
       "dict['key1']"
      ]
     },
     "execution_count": 8,
     "metadata": {},
     "output_type": "execute_result"
    }
   ],
   "source": [
    "dict['key1']"
   ]
  },
  {
   "cell_type": "code",
   "execution_count": 12,
   "id": "ee35e246-9564-42f1-b731-4474301b743d",
   "metadata": {},
   "outputs": [
    {
     "name": "stdout",
     "output_type": "stream",
     "text": [
      "2\n"
     ]
    }
   ],
   "source": [
    "## We can convert one data type into other as--\n",
    "num = int(2.5)\n",
    "print(num)"
   ]
  },
  {
   "cell_type": "code",
   "execution_count": 14,
   "id": "aacd6f1c-5d65-4cf4-b8d1-71aa8155969b",
   "metadata": {},
   "outputs": [
    {
     "name": "stdout",
     "output_type": "stream",
     "text": [
      "2.0\n"
     ]
    }
   ],
   "source": [
    "num = float(2)\n",
    "print(num)"
   ]
  },
  {
   "cell_type": "code",
   "execution_count": 15,
   "id": "523864ac-2bd8-41e4-af91-eee2229fa2c6",
   "metadata": {},
   "outputs": [
    {
     "data": {
      "text/plain": [
       "'2'"
      ]
     },
     "execution_count": 15,
     "metadata": {},
     "output_type": "execute_result"
    }
   ],
   "source": [
    "str = str(2)\n",
    "str"
   ]
  },
  {
   "cell_type": "markdown",
   "id": "46f5a4fb-855e-4469-be07-e8dfd2f26ece",
   "metadata": {},
   "source": [
    "## Strings"
   ]
  },
  {
   "cell_type": "code",
   "execution_count": 36,
   "id": "63ed0899-ec87-4310-82af-92fd26f2a6ca",
   "metadata": {},
   "outputs": [
    {
     "name": "stdout",
     "output_type": "stream",
     "text": [
      "hello\",world\n"
     ]
    }
   ],
   "source": [
    "## Escape character helps to ignore some special symbol in strings\n",
    "str = \"hello\\\",world\"\n",
    "print(str)"
   ]
  },
  {
   "cell_type": "code",
   "execution_count": 39,
   "id": "e78c2514-f148-49cf-8ac5-d803cf5f727c",
   "metadata": {},
   "outputs": [
    {
     "name": "stdout",
     "output_type": "stream",
     "text": [
      "hello world\n"
     ]
    }
   ],
   "source": [
    "## Concatinating two strings\n",
    "str = \"hello \" + \"world\"\n",
    "print(str)"
   ]
  },
  {
   "cell_type": "code",
   "execution_count": 42,
   "id": "f9ba96fc-e831-453a-b3e3-bae498b6d127",
   "metadata": {},
   "outputs": [
    {
     "name": "stdout",
     "output_type": "stream",
     "text": [
      "hello5\n"
     ]
    }
   ],
   "source": [
    "str = \"hello\" + \"5\"\n",
    "print(str)"
   ]
  },
  {
   "cell_type": "code",
   "execution_count": 43,
   "id": "7987d71d-f248-40d1-b077-cde898b37296",
   "metadata": {},
   "outputs": [
    {
     "ename": "TypeError",
     "evalue": "can only concatenate str (not \"int\") to str",
     "output_type": "error",
     "traceback": [
      "\u001b[1;31m---------------------------------------------------------------------------\u001b[0m",
      "\u001b[1;31mTypeError\u001b[0m                                 Traceback (most recent call last)",
      "Cell \u001b[1;32mIn[43], line 2\u001b[0m\n\u001b[0;32m      1\u001b[0m \u001b[38;5;66;03m## We cannot concatinate a string and a number\u001b[39;00m\n\u001b[1;32m----> 2\u001b[0m \u001b[38;5;28mstr\u001b[39m \u001b[38;5;241m=\u001b[39m \u001b[38;5;124m'\u001b[39m\u001b[38;5;124mhello\u001b[39m\u001b[38;5;124m'\u001b[39m \u001b[38;5;241m+\u001b[39m \u001b[38;5;241m5\u001b[39m\n\u001b[0;32m      3\u001b[0m \u001b[38;5;28mprint\u001b[39m(\u001b[38;5;28mstr\u001b[39m)\n",
      "\u001b[1;31mTypeError\u001b[0m: can only concatenate str (not \"int\") to str"
     ]
    }
   ],
   "source": [
    "## We cannot concatinate a string and a number\n",
    "str = 'hello' + 5\n",
    "print(str)"
   ]
  },
  {
   "cell_type": "code",
   "execution_count": 44,
   "id": "66f53453-b124-4f55-a234-dc51b82ba412",
   "metadata": {},
   "outputs": [
    {
     "name": "stdout",
     "output_type": "stream",
     "text": [
      "hellohellohellohellohello\n"
     ]
    }
   ],
   "source": [
    "## We can multiply a string with a number\n",
    "str = \"hello\" * 5\n",
    "print(str)"
   ]
  },
  {
   "cell_type": "code",
   "execution_count": 16,
   "id": "68a5c379-906e-438c-a06b-aa767ef7ad11",
   "metadata": {},
   "outputs": [
    {
     "ename": "TypeError",
     "evalue": "can't multiply sequence by non-int of type 'str'",
     "output_type": "error",
     "traceback": [
      "\u001b[1;31m---------------------------------------------------------------------------\u001b[0m",
      "\u001b[1;31mTypeError\u001b[0m                                 Traceback (most recent call last)",
      "Cell \u001b[1;32mIn[16], line 2\u001b[0m\n\u001b[0;32m      1\u001b[0m \u001b[38;5;66;03m## We cannot multiply a string with a string\u001b[39;00m\n\u001b[1;32m----> 2\u001b[0m \u001b[38;5;28mstr\u001b[39m \u001b[38;5;241m=\u001b[39m \u001b[38;5;124m'\u001b[39m\u001b[38;5;124mhello\u001b[39m\u001b[38;5;124m'\u001b[39m \u001b[38;5;241m*\u001b[39m \u001b[38;5;124m'\u001b[39m\u001b[38;5;124mhello\u001b[39m\u001b[38;5;124m'\u001b[39m\n\u001b[0;32m      3\u001b[0m \u001b[38;5;28mprint\u001b[39m(\u001b[38;5;28mstr\u001b[39m)\n",
      "\u001b[1;31mTypeError\u001b[0m: can't multiply sequence by non-int of type 'str'"
     ]
    }
   ],
   "source": [
    "## We cannot multiply a string with a string\n",
    "str = 'hello' * 'hello'\n",
    "print(str)"
   ]
  },
  {
   "cell_type": "code",
   "execution_count": 25,
   "id": "1ed44d90-7565-438b-addf-b212b7f44ec0",
   "metadata": {},
   "outputs": [
    {
     "name": "stdout",
     "output_type": "stream",
     "text": [
      "My roll no is 24\n"
     ]
    }
   ],
   "source": [
    "## fString helps us to easily concatinate string with other data types as--\n",
    "## Just add f before starting a string\n",
    "str = f'My roll no is {24}'\n",
    "print(str)"
   ]
  },
  {
   "cell_type": "code",
   "execution_count": 26,
   "id": "db01aa98-fe38-4424-9167-60f1c49eb52e",
   "metadata": {},
   "outputs": [
    {
     "name": "stdout",
     "output_type": "stream",
     "text": [
      "My roll no is 24\n"
     ]
    }
   ],
   "source": [
    "## We can also insert variables in fstring as well\n",
    "b = 24\n",
    "str = f'My roll no is {b}'\n",
    "print(str)"
   ]
  },
  {
   "cell_type": "code",
   "execution_count": 22,
   "id": "5d8647b5-db1e-4b95-8cfa-37c6352e48b2",
   "metadata": {},
   "outputs": [
    {
     "name": "stdout",
     "output_type": "stream",
     "text": [
      "My roll no is 24\n"
     ]
    }
   ],
   "source": [
    "## We can also do the above work as--\n",
    "str = 'My roll no is {}'.format(24)\n",
    "print(str)"
   ]
  },
  {
   "cell_type": "code",
   "execution_count": 24,
   "id": "17d9b5b7-f319-47d7-842b-792679e5b942",
   "metadata": {},
   "outputs": [
    {
     "name": "stdout",
     "output_type": "stream",
     "text": [
      "My roll no is 24\n"
     ]
    }
   ],
   "source": [
    "## We can also specify variables in format method\n",
    "str = 'My roll no is {b}'.format(b = 24)\n",
    "print(str)"
   ]
  },
  {
   "cell_type": "code",
   "execution_count": 11,
   "id": "15350bf5-3ffd-420a-ac31-cbff5586756f",
   "metadata": {},
   "outputs": [
    {
     "name": "stdout",
     "output_type": "stream",
     "text": [
      "HELLO\n"
     ]
    }
   ],
   "source": [
    "## To change the string into uppercase\n",
    "str = 'hello'\n",
    "print(str.upper())"
   ]
  },
  {
   "cell_type": "code",
   "execution_count": 10,
   "id": "b4b07c01-b07d-4626-b096-9721fa824ee3",
   "metadata": {},
   "outputs": [
    {
     "name": "stdout",
     "output_type": "stream",
     "text": [
      "hello\n"
     ]
    }
   ],
   "source": [
    "## To change the string into lowercase\n",
    "str = 'HELLO'\n",
    "print(str.lower())"
   ]
  },
  {
   "cell_type": "code",
   "execution_count": 46,
   "id": "f9c4d445-3021-4e99-af0f-9e7180ec2272",
   "metadata": {},
   "outputs": [
    {
     "data": {
      "text/plain": [
       "['hello', 'world', 'is', '#awesome']"
      ]
     },
     "execution_count": 46,
     "metadata": {},
     "output_type": "execute_result"
    }
   ],
   "source": [
    "## split function split strings and put it inside an array\n",
    "## By default it spilt on white spaces in strings\n",
    "str = 'hello world is #awesome'\n",
    "str.split()"
   ]
  },
  {
   "cell_type": "code",
   "execution_count": 47,
   "id": "f6ffce5e-36a5-44ff-8816-83189fe36cd2",
   "metadata": {},
   "outputs": [
    {
     "data": {
      "text/plain": [
       "['hello world is ', 'awesome']"
      ]
     },
     "execution_count": 47,
     "metadata": {},
     "output_type": "execute_result"
    }
   ],
   "source": [
    "## We can put parameter where we want it to split\n",
    "str.split('#')"
   ]
  },
  {
   "cell_type": "code",
   "execution_count": null,
   "id": "5772d37c-fd19-45a6-b3da-f584a50dab6f",
   "metadata": {},
   "outputs": [],
   "source": []
  },
  {
   "cell_type": "markdown",
   "id": "6cbdb2a1-6b2a-45a4-8df5-a34097efd43b",
   "metadata": {},
   "source": [
    "## Lists"
   ]
  },
  {
   "cell_type": "code",
   "execution_count": 55,
   "id": "bb712fd5-0299-445c-ba1c-28beae4a6138",
   "metadata": {},
   "outputs": [
    {
     "ename": "TypeError",
     "evalue": "'list' object is not callable",
     "output_type": "error",
     "traceback": [
      "\u001b[1;31m---------------------------------------------------------------------------\u001b[0m",
      "\u001b[1;31mTypeError\u001b[0m                                 Traceback (most recent call last)",
      "Cell \u001b[1;32mIn[55], line 2\u001b[0m\n\u001b[0;32m      1\u001b[0m \u001b[38;5;66;03m## To instantly create a list use this\u001b[39;00m\n\u001b[1;32m----> 2\u001b[0m \u001b[38;5;28mlist\u001b[39m \u001b[38;5;241m=\u001b[39m \u001b[38;5;28mlist\u001b[39m(\u001b[38;5;28mrange\u001b[39m(\u001b[38;5;241m5\u001b[39m))\n\u001b[0;32m      3\u001b[0m \u001b[38;5;28mlist\u001b[39m\n",
      "\u001b[1;31mTypeError\u001b[0m: 'list' object is not callable"
     ]
    }
   ],
   "source": [
    "## To instantly create a list use this\n",
    "list(range(5))"
   ]
  },
  {
   "cell_type": "code",
   "execution_count": 57,
   "id": "2d904977-9a18-4964-bee3-aa4fb1834881",
   "metadata": {},
   "outputs": [
    {
     "data": {
      "text/plain": [
       "[4, 9, 16, 25]"
      ]
     },
     "execution_count": 57,
     "metadata": {},
     "output_type": "execute_result"
    }
   ],
   "source": [
    "## To append something in last position list \n",
    "list1 = [2,3,4,5]\n",
    "list2 = []\n",
    "for x in list1:\n",
    "    list2.append(x ** 2)\n",
    "\n",
    "list2\n"
   ]
  },
  {
   "cell_type": "code",
   "execution_count": 59,
   "id": "57275901-2ac0-4bda-909f-39263948b0e9",
   "metadata": {},
   "outputs": [
    {
     "data": {
      "text/plain": [
       "[4, 9, 16, 25]"
      ]
     },
     "execution_count": 59,
     "metadata": {},
     "output_type": "execute_result"
    }
   ],
   "source": [
    "## List Compression\n",
    "## We can create a list instantly based on another list\n",
    "## We can simplify above code as--\n",
    "list = [x ** 2 for x in list1]\n",
    "list"
   ]
  },
  {
   "cell_type": "code",
   "execution_count": 61,
   "id": "12e5b9ae-b5f4-4323-acde-5e35937218c0",
   "metadata": {},
   "outputs": [
    {
     "data": {
      "text/plain": [
       "[1, 2, 3, 4]"
      ]
     },
     "execution_count": 61,
     "metadata": {},
     "output_type": "execute_result"
    }
   ],
   "source": [
    "## To remove last element from a list\n",
    "list = [1,2,3,4,5]\n",
    "list.pop()\n",
    "list"
   ]
  },
  {
   "cell_type": "code",
   "execution_count": 62,
   "id": "d195f911-96f4-471d-be33-f1e4732b5a2f",
   "metadata": {},
   "outputs": [
    {
     "data": {
      "text/plain": [
       "[1, 3, 4]"
      ]
     },
     "execution_count": 62,
     "metadata": {},
     "output_type": "execute_result"
    }
   ],
   "source": [
    "## We can also specify position where we want to remove an element\n",
    "list.pop(1)\n",
    "list"
   ]
  },
  {
   "cell_type": "markdown",
   "id": "a53f2a96-dc53-403d-990f-8fedb85b23f8",
   "metadata": {},
   "source": [
    "## Dictonaries"
   ]
  },
  {
   "cell_type": "code",
   "execution_count": 2,
   "id": "bf6c9348-9380-4931-9c57-0d9731b86e52",
   "metadata": {},
   "outputs": [
    {
     "data": {
      "text/plain": [
       "dict_keys(['name', 'roll'])"
      ]
     },
     "execution_count": 2,
     "metadata": {},
     "output_type": "execute_result"
    }
   ],
   "source": [
    "dict = {'name' : 'sam','roll': 5}\n",
    "\n",
    "## keys method will give all its keys value inside an array\n",
    "dict.keys()"
   ]
  },
  {
   "cell_type": "code",
   "execution_count": 3,
   "id": "8adee316-d872-4305-9133-ef5584ce52eb",
   "metadata": {},
   "outputs": [
    {
     "data": {
      "text/plain": [
       "dict_items([('name', 'sam'), ('roll', 5)])"
      ]
     },
     "execution_count": 3,
     "metadata": {},
     "output_type": "execute_result"
    }
   ],
   "source": [
    "## items method give both keys and its values separately\n",
    "dict.items()"
   ]
  },
  {
   "cell_type": "code",
   "execution_count": null,
   "id": "6c0ef53d-21f2-47a4-89ad-6ee42171584b",
   "metadata": {},
   "outputs": [],
   "source": []
  }
 ],
 "metadata": {
  "kernelspec": {
   "display_name": "Python 3 (ipykernel)",
   "language": "python",
   "name": "python3"
  },
  "language_info": {
   "codemirror_mode": {
    "name": "ipython",
    "version": 3
   },
   "file_extension": ".py",
   "mimetype": "text/x-python",
   "name": "python",
   "nbconvert_exporter": "python",
   "pygments_lexer": "ipython3",
   "version": "3.12.2"
  }
 },
 "nbformat": 4,
 "nbformat_minor": 5
}
