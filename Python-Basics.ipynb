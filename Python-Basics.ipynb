{
 "cells": [
  {
   "cell_type": "markdown",
   "id": "cb30d42f-406c-4b63-bda5-15cd3de512ce",
   "metadata": {},
   "source": [
    "# Python Notes\n",
    "This is a self documented notes for python"
   ]
  },
  {
   "cell_type": "markdown",
   "id": "0f14c736-95d2-418c-93c7-87289a252964",
   "metadata": {},
   "source": [
    "## Some useful functions"
   ]
  },
  {
   "cell_type": "code",
   "execution_count": 2,
   "id": "1058a098-c2f4-475c-85c1-06a67e7d809a",
   "metadata": {},
   "outputs": [
    {
     "name": "stdin",
     "output_type": "stream",
     "text": [
      " hello\n"
     ]
    },
    {
     "data": {
      "text/plain": [
       "'hello'"
      ]
     },
     "execution_count": 2,
     "metadata": {},
     "output_type": "execute_result"
    }
   ],
   "source": [
    "## This is used for commenting texts\n",
    "## input is used to get input from the users\n",
    "input()"
   ]
  },
  {
   "cell_type": "code",
   "execution_count": 5,
   "id": "9ed0df47-38f8-43e6-a349-e6a2f7c8df82",
   "metadata": {},
   "outputs": [
    {
     "name": "stdin",
     "output_type": "stream",
     "text": [
      "Please enter your name\n",
      " Sam\n"
     ]
    },
    {
     "data": {
      "text/plain": [
       "'Sam'"
      ]
     },
     "execution_count": 5,
     "metadata": {},
     "output_type": "execute_result"
    }
   ],
   "source": [
    "## We can specify the msg that we want to show while taking input as parameter inside input method\n",
    "input(\"Please enter your name\\n\")"
   ]
  },
  {
   "cell_type": "code",
   "execution_count": 28,
   "id": "9bdca4ad-03bb-4b0f-bb45-85cdf42aaef2",
   "metadata": {},
   "outputs": [
    {
     "data": {
      "text/plain": [
       "range(0, 5)"
      ]
     },
     "execution_count": 28,
     "metadata": {},
     "output_type": "execute_result"
    }
   ],
   "source": [
    "## range is used to get range and can be used in multiple ways with severral data types and functions\n",
    "range(5)"
   ]
  },
  {
   "cell_type": "code",
   "execution_count": 29,
   "id": "b136a481-c135-49bd-a194-ec12fe64405d",
   "metadata": {},
   "outputs": [
    {
     "data": {
      "text/plain": [
       "range(2, 5)"
      ]
     },
     "execution_count": 29,
     "metadata": {},
     "output_type": "execute_result"
    }
   ],
   "source": [
    "range(2,5)"
   ]
  },
  {
   "cell_type": "code",
   "execution_count": 25,
   "id": "1bc8b670-54ad-48a7-b296-eb99a2466c26",
   "metadata": {},
   "outputs": [
    {
     "data": {
      "text/plain": [
       "float"
      ]
     },
     "execution_count": 25,
     "metadata": {},
     "output_type": "execute_result"
    }
   ],
   "source": [
    "##This tells us the type of any data types\n",
    "type(2.5)"
   ]
  },
  {
   "cell_type": "code",
   "execution_count": null,
   "id": "184be3ad-ba9d-4471-9608-e5fdbd9485d7",
   "metadata": {},
   "outputs": [],
   "source": []
  },
  {
   "cell_type": "markdown",
   "id": "dc2d63f9-2eb4-41ef-b7be-0d27ae62a0b1",
   "metadata": {},
   "source": [
    "## Arithmatic Operators"
   ]
  },
  {
   "cell_type": "code",
   "execution_count": 2,
   "id": "55c9f8f0-56f5-4746-8ec1-4939ddc6b2bc",
   "metadata": {},
   "outputs": [
    {
     "name": "stdout",
     "output_type": "stream",
     "text": [
      "25\n"
     ]
    }
   ],
   "source": [
    "a = 1 + 1\n",
    "b = 1 - 1\n",
    "c = 1 * 1\n",
    "d = 5 / 2\n",
    "e = 5 // 2\n",
    "f = 5 ** 2\n",
    "\n",
    "print(f)"
   ]
  },
  {
   "cell_type": "markdown",
   "id": "a1b3f439-1436-446d-a6f3-842a10764ea6",
   "metadata": {},
   "source": [
    "## Assignment Operator"
   ]
  },
  {
   "cell_type": "code",
   "execution_count": 12,
   "id": "a964818b-251c-4646-a555-39efbad736f0",
   "metadata": {},
   "outputs": [],
   "source": [
    "a = 7\n",
    "b = a"
   ]
  },
  {
   "cell_type": "markdown",
   "id": "46ba373b-db87-48f4-927e-67ba15ffc0b1",
   "metadata": {},
   "source": [
    "## Comparison Operator"
   ]
  },
  {
   "cell_type": "code",
   "execution_count": 5,
   "id": "55147b26-f4dd-4a29-9397-0b6da889ae14",
   "metadata": {},
   "outputs": [
    {
     "name": "stdout",
     "output_type": "stream",
     "text": [
      "True\n"
     ]
    }
   ],
   "source": [
    "a = 5 == 5\n",
    "b = 5 <= 4\n",
    "c = 5 >= 4\n",
    "d = 5 < 4\n",
    "e = 5 > 4\n",
    "\n",
    "print(a)"
   ]
  },
  {
   "cell_type": "markdown",
   "id": "ccd13749-a79d-4c72-b3b0-7c14f677b3ad",
   "metadata": {},
   "source": [
    "## Logic Operator"
   ]
  },
  {
   "cell_type": "code",
   "execution_count": 7,
   "id": "b72c21cb-5baa-4ffe-9da5-97b591bcb7f6",
   "metadata": {},
   "outputs": [
    {
     "name": "stdout",
     "output_type": "stream",
     "text": [
      "True\n"
     ]
    }
   ],
   "source": [
    "a = (5 <= 6) and (6 >= 8)\n",
    "b = (5 <= 6) or (6 >= 8)\n",
    "\n",
    "print(b)"
   ]
  },
  {
   "cell_type": "markdown",
   "id": "586ea12a-115b-4bdb-84c1-89186cad2583",
   "metadata": {},
   "source": [
    "## Conditionals"
   ]
  },
  {
   "cell_type": "code",
   "execution_count": 10,
   "id": "434078ef-c690-4ba0-b05c-defe986774cb",
   "metadata": {},
   "outputs": [
    {
     "name": "stdout",
     "output_type": "stream",
     "text": [
      "greater than one and less than ten\n"
     ]
    }
   ],
   "source": [
    "a = 2\n",
    "\n",
    "if a <= 1 :\n",
    "    print('less than one')\n",
    "elif a > 1 and a <= 10:\n",
    "    print('greater than one and less than ten')\n",
    "else:\n",
    "    print('greater than ten')\n",
    "\n"
   ]
  },
  {
   "cell_type": "markdown",
   "id": "bf47eb60-a25f-4756-a69b-b4088470f323",
   "metadata": {},
   "source": [
    "## Loops"
   ]
  },
  {
   "cell_type": "markdown",
   "id": "eb24bd6b-f117-4883-9206-9f91585b1ac4",
   "metadata": {},
   "source": [
    "* While-Loops"
   ]
  },
  {
   "cell_type": "code",
   "execution_count": 15,
   "id": "1dd1c089-6d2b-4203-8f3a-4a0f97ab549e",
   "metadata": {},
   "outputs": [
    {
     "name": "stdout",
     "output_type": "stream",
     "text": [
      "1\n",
      "2\n",
      "3\n",
      "4\n"
     ]
    }
   ],
   "source": [
    "a = 1\n",
    "\n",
    "while a <= 4:\n",
    "    print(a)\n",
    "    a = a + 1\n",
    "\n"
   ]
  },
  {
   "cell_type": "markdown",
   "id": "5ec7ad56-9f39-4034-b256-b6fc0ae28fd0",
   "metadata": {},
   "source": [
    "* for-Loops"
   ]
  },
  {
   "cell_type": "code",
   "execution_count": 14,
   "id": "63005550-2d09-4199-8934-b2eec60b5355",
   "metadata": {},
   "outputs": [
    {
     "name": "stdout",
     "output_type": "stream",
     "text": [
      "5\n",
      "6\n",
      "8\n",
      "9\n"
     ]
    }
   ],
   "source": [
    "a = [5,6,8,9]\n",
    "\n",
    "for x in b:\n",
    "    print(x)"
   ]
  },
  {
   "cell_type": "code",
   "execution_count": 16,
   "id": "3b37f3f0-ac9b-47ff-b75d-fb4adc009c94",
   "metadata": {},
   "outputs": [
    {
     "name": "stdout",
     "output_type": "stream",
     "text": [
      "0\n",
      "1\n",
      "2\n",
      "3\n",
      "4\n"
     ]
    }
   ],
   "source": [
    "for x in range(5):\n",
    "    print(x)"
   ]
  },
  {
   "cell_type": "markdown",
   "id": "b64baa79-460b-4167-886d-c815559d8531",
   "metadata": {},
   "source": [
    "## Functions"
   ]
  },
  {
   "cell_type": "code",
   "execution_count": 35,
   "id": "766f04a6-aa4b-4d5d-9dcb-fb89c6b123b1",
   "metadata": {},
   "outputs": [
    {
     "name": "stdout",
     "output_type": "stream",
     "text": [
      "25\n"
     ]
    }
   ],
   "source": [
    "def print_square(num):\n",
    "    print(num ** 2)\n",
    "\n",
    "print_square(5)"
   ]
  },
  {
   "cell_type": "code",
   "execution_count": 18,
   "id": "09483ee9-231c-4796-8133-707c4c798bfb",
   "metadata": {},
   "outputs": [
    {
     "name": "stdout",
     "output_type": "stream",
     "text": [
      "36\n"
     ]
    }
   ],
   "source": [
    "def return_square(num):\n",
    "    return num ** 2\n",
    "\n",
    "a = return_square(6)\n",
    "print(a)"
   ]
  },
  {
   "cell_type": "markdown",
   "id": "57510261-b888-45cd-bbb7-0a5c0dddae2e",
   "metadata": {},
   "source": [
    "* Anonymous-Function"
   ]
  },
  {
   "cell_type": "code",
   "execution_count": 21,
   "id": "24708daf-2cce-4f59-8e44-a75a24b1c3c7",
   "metadata": {},
   "outputs": [
    {
     "data": {
      "text/plain": [
       "<function __main__.<lambda>(var)>"
      ]
     },
     "execution_count": 21,
     "metadata": {},
     "output_type": "execute_result"
    }
   ],
   "source": [
    "lambda var: print(5 ** 2)"
   ]
  },
  {
   "cell_type": "markdown",
   "id": "23fa1cf4-5e5b-4653-b70a-97dd6bf47365",
   "metadata": {},
   "source": [
    "## Data Types"
   ]
  },
  {
   "cell_type": "code",
   "execution_count": 30,
   "id": "af73fbf6-5a55-4504-8559-3a9fb64fe994",
   "metadata": {},
   "outputs": [
    {
     "name": "stdout",
     "output_type": "stream",
     "text": [
      "{1, 2, 3, 4, 7}\n"
     ]
    }
   ],
   "source": [
    "## 1.Numbers\n",
    "num1 = 4\n",
    "num2 = 2.5\n",
    "\n",
    "## 2.Strings\n",
    "str1 = 'hello,world'\n",
    "str2 = 'a'\n",
    "\n",
    "## 3.Lists - It is mutable\n",
    "list = [1,2,3,4,5]\n",
    "\n",
    "## 4.Dictionaries - It is object in python\n",
    "dict = {'key1':'item1','key2':'item2'}\n",
    "\n",
    "## 5.Tuples - It is an immutable array\n",
    "tup = (1,2,3,4)\n",
    "\n",
    "## 6.Sets - It is array where repeated elements get removed\n",
    "sets = {1,2,2,2,3,3,7,4,4,2}\n",
    "\n",
    "print(sets)"
   ]
  },
  {
   "cell_type": "code",
   "execution_count": 31,
   "id": "05a3ab31-c191-4f49-9a85-657f09ece582",
   "metadata": {},
   "outputs": [
    {
     "data": {
      "text/plain": [
       "[8, 2, 3, 4, 5]"
      ]
     },
     "execution_count": 31,
     "metadata": {},
     "output_type": "execute_result"
    }
   ],
   "source": [
    "list[0] = 8\n",
    "list"
   ]
  },
  {
   "cell_type": "code",
   "execution_count": 32,
   "id": "5ec9c4ea-5e35-4e0b-a4be-6d11e57b378d",
   "metadata": {},
   "outputs": [
    {
     "ename": "TypeError",
     "evalue": "'tuple' object does not support item assignment",
     "output_type": "error",
     "traceback": [
      "\u001b[1;31m---------------------------------------------------------------------------\u001b[0m",
      "\u001b[1;31mTypeError\u001b[0m                                 Traceback (most recent call last)",
      "Cell \u001b[1;32mIn[32], line 1\u001b[0m\n\u001b[1;32m----> 1\u001b[0m tup[\u001b[38;5;241m0\u001b[39m] \u001b[38;5;241m=\u001b[39m \u001b[38;5;241m8\u001b[39m\n\u001b[0;32m      2\u001b[0m tup\n",
      "\u001b[1;31mTypeError\u001b[0m: 'tuple' object does not support item assignment"
     ]
    }
   ],
   "source": [
    "tup[0] = 8\n",
    "tup"
   ]
  },
  {
   "cell_type": "code",
   "execution_count": 8,
   "id": "6497714c-c3ed-45c6-89b6-1bddfabdd401",
   "metadata": {},
   "outputs": [
    {
     "data": {
      "text/plain": [
       "dict['key1']"
      ]
     },
     "execution_count": 8,
     "metadata": {},
     "output_type": "execute_result"
    }
   ],
   "source": [
    "dict['key1']"
   ]
  },
  {
   "cell_type": "code",
   "execution_count": 12,
   "id": "ee35e246-9564-42f1-b731-4474301b743d",
   "metadata": {},
   "outputs": [
    {
     "name": "stdout",
     "output_type": "stream",
     "text": [
      "2\n"
     ]
    }
   ],
   "source": [
    "## We can convert one data type into other as--\n",
    "num = int(2.5)\n",
    "print(num)"
   ]
  },
  {
   "cell_type": "code",
   "execution_count": 14,
   "id": "aacd6f1c-5d65-4cf4-b8d1-71aa8155969b",
   "metadata": {},
   "outputs": [
    {
     "name": "stdout",
     "output_type": "stream",
     "text": [
      "2.0\n"
     ]
    }
   ],
   "source": [
    "num = float(2)\n",
    "print(num)"
   ]
  },
  {
   "cell_type": "code",
   "execution_count": 15,
   "id": "523864ac-2bd8-41e4-af91-eee2229fa2c6",
   "metadata": {},
   "outputs": [
    {
     "data": {
      "text/plain": [
       "'2'"
      ]
     },
     "execution_count": 15,
     "metadata": {},
     "output_type": "execute_result"
    }
   ],
   "source": [
    "str = str(2)\n",
    "str"
   ]
  },
  {
   "cell_type": "markdown",
   "id": "46f5a4fb-855e-4469-be07-e8dfd2f26ece",
   "metadata": {},
   "source": [
    "## Strings"
   ]
  },
  {
   "cell_type": "code",
   "execution_count": 36,
   "id": "63ed0899-ec87-4310-82af-92fd26f2a6ca",
   "metadata": {},
   "outputs": [
    {
     "name": "stdout",
     "output_type": "stream",
     "text": [
      "hello\",world\n"
     ]
    }
   ],
   "source": [
    "## Escape character helps to ignore some special symbol in strings\n",
    "str = \"hello\\\",world\"\n",
    "print(str)"
   ]
  },
  {
   "cell_type": "code",
   "execution_count": 39,
   "id": "e78c2514-f148-49cf-8ac5-d803cf5f727c",
   "metadata": {},
   "outputs": [
    {
     "name": "stdout",
     "output_type": "stream",
     "text": [
      "hello world\n"
     ]
    }
   ],
   "source": [
    "## Concatinating two strings\n",
    "str = \"hello \" + \"world\"\n",
    "print(str)"
   ]
  },
  {
   "cell_type": "code",
   "execution_count": 42,
   "id": "f9ba96fc-e831-453a-b3e3-bae498b6d127",
   "metadata": {},
   "outputs": [
    {
     "name": "stdout",
     "output_type": "stream",
     "text": [
      "hello5\n"
     ]
    }
   ],
   "source": [
    "str = \"hello\" + \"5\"\n",
    "print(str)"
   ]
  },
  {
   "cell_type": "code",
   "execution_count": 43,
   "id": "7987d71d-f248-40d1-b077-cde898b37296",
   "metadata": {},
   "outputs": [
    {
     "ename": "TypeError",
     "evalue": "can only concatenate str (not \"int\") to str",
     "output_type": "error",
     "traceback": [
      "\u001b[1;31m---------------------------------------------------------------------------\u001b[0m",
      "\u001b[1;31mTypeError\u001b[0m                                 Traceback (most recent call last)",
      "Cell \u001b[1;32mIn[43], line 2\u001b[0m\n\u001b[0;32m      1\u001b[0m \u001b[38;5;66;03m## We cannot concatinate a string and a number\u001b[39;00m\n\u001b[1;32m----> 2\u001b[0m \u001b[38;5;28mstr\u001b[39m \u001b[38;5;241m=\u001b[39m \u001b[38;5;124m'\u001b[39m\u001b[38;5;124mhello\u001b[39m\u001b[38;5;124m'\u001b[39m \u001b[38;5;241m+\u001b[39m \u001b[38;5;241m5\u001b[39m\n\u001b[0;32m      3\u001b[0m \u001b[38;5;28mprint\u001b[39m(\u001b[38;5;28mstr\u001b[39m)\n",
      "\u001b[1;31mTypeError\u001b[0m: can only concatenate str (not \"int\") to str"
     ]
    }
   ],
   "source": [
    "## We cannot concatinate a string and a number\n",
    "str = 'hello' + 5\n",
    "print(str)"
   ]
  },
  {
   "cell_type": "code",
   "execution_count": 44,
   "id": "66f53453-b124-4f55-a234-dc51b82ba412",
   "metadata": {},
   "outputs": [
    {
     "name": "stdout",
     "output_type": "stream",
     "text": [
      "hellohellohellohellohello\n"
     ]
    }
   ],
   "source": [
    "## We can multiply a string with a number\n",
    "str = \"hello\" * 5\n",
    "print(str)"
   ]
  },
  {
   "cell_type": "code",
   "execution_count": 16,
   "id": "68a5c379-906e-438c-a06b-aa767ef7ad11",
   "metadata": {},
   "outputs": [
    {
     "ename": "TypeError",
     "evalue": "can't multiply sequence by non-int of type 'str'",
     "output_type": "error",
     "traceback": [
      "\u001b[1;31m---------------------------------------------------------------------------\u001b[0m",
      "\u001b[1;31mTypeError\u001b[0m                                 Traceback (most recent call last)",
      "Cell \u001b[1;32mIn[16], line 2\u001b[0m\n\u001b[0;32m      1\u001b[0m \u001b[38;5;66;03m## We cannot multiply a string with a string\u001b[39;00m\n\u001b[1;32m----> 2\u001b[0m \u001b[38;5;28mstr\u001b[39m \u001b[38;5;241m=\u001b[39m \u001b[38;5;124m'\u001b[39m\u001b[38;5;124mhello\u001b[39m\u001b[38;5;124m'\u001b[39m \u001b[38;5;241m*\u001b[39m \u001b[38;5;124m'\u001b[39m\u001b[38;5;124mhello\u001b[39m\u001b[38;5;124m'\u001b[39m\n\u001b[0;32m      3\u001b[0m \u001b[38;5;28mprint\u001b[39m(\u001b[38;5;28mstr\u001b[39m)\n",
      "\u001b[1;31mTypeError\u001b[0m: can't multiply sequence by non-int of type 'str'"
     ]
    }
   ],
   "source": [
    "## We cannot multiply a string with a string\n",
    "str = 'hello' * 'hello'\n",
    "print(str)"
   ]
  },
  {
   "cell_type": "code",
   "execution_count": 25,
   "id": "1ed44d90-7565-438b-addf-b212b7f44ec0",
   "metadata": {},
   "outputs": [
    {
     "name": "stdout",
     "output_type": "stream",
     "text": [
      "My roll no is 24\n"
     ]
    }
   ],
   "source": [
    "## fString helps us to easily concatinate string with other data types as--\n",
    "## Just add f before starting a string\n",
    "str = f'My roll no is {24}'\n",
    "print(str)"
   ]
  },
  {
   "cell_type": "code",
   "execution_count": 26,
   "id": "db01aa98-fe38-4424-9167-60f1c49eb52e",
   "metadata": {},
   "outputs": [
    {
     "name": "stdout",
     "output_type": "stream",
     "text": [
      "My roll no is 24\n"
     ]
    }
   ],
   "source": [
    "## We can also insert variables in fstring as well\n",
    "b = 24\n",
    "str = f'My roll no is {b}'\n",
    "print(str)"
   ]
  },
  {
   "cell_type": "code",
   "execution_count": 22,
   "id": "5d8647b5-db1e-4b95-8cfa-37c6352e48b2",
   "metadata": {},
   "outputs": [
    {
     "name": "stdout",
     "output_type": "stream",
     "text": [
      "My roll no is 24\n"
     ]
    }
   ],
   "source": [
    "## We can also do the above work as--\n",
    "str = 'My roll no is {}'.format(24)\n",
    "print(str)"
   ]
  },
  {
   "cell_type": "code",
   "execution_count": 24,
   "id": "17d9b5b7-f319-47d7-842b-792679e5b942",
   "metadata": {},
   "outputs": [
    {
     "name": "stdout",
     "output_type": "stream",
     "text": [
      "My roll no is 24\n"
     ]
    }
   ],
   "source": [
    "## We can also specify variables in format method\n",
    "str = 'My roll no is {b}'.format(b = 24)\n",
    "print(str)"
   ]
  },
  {
   "cell_type": "code",
   "execution_count": 11,
   "id": "15350bf5-3ffd-420a-ac31-cbff5586756f",
   "metadata": {},
   "outputs": [
    {
     "name": "stdout",
     "output_type": "stream",
     "text": [
      "HELLO\n"
     ]
    }
   ],
   "source": [
    "## To change the string into uppercase\n",
    "str = 'hello'\n",
    "print(str.upper())"
   ]
  },
  {
   "cell_type": "code",
   "execution_count": 10,
   "id": "b4b07c01-b07d-4626-b096-9721fa824ee3",
   "metadata": {},
   "outputs": [
    {
     "name": "stdout",
     "output_type": "stream",
     "text": [
      "hello\n"
     ]
    }
   ],
   "source": [
    "## To change the string into lowercase\n",
    "str = 'HELLO'\n",
    "print(str.lower())"
   ]
  },
  {
   "cell_type": "code",
   "execution_count": 46,
   "id": "f9c4d445-3021-4e99-af0f-9e7180ec2272",
   "metadata": {},
   "outputs": [
    {
     "data": {
      "text/plain": [
       "['hello', 'world', 'is', '#awesome']"
      ]
     },
     "execution_count": 46,
     "metadata": {},
     "output_type": "execute_result"
    }
   ],
   "source": [
    "## split function split strings and put it inside an array\n",
    "## By default it spilt on white spaces in strings\n",
    "str = 'hello world is #awesome'\n",
    "str.split()"
   ]
  },
  {
   "cell_type": "code",
   "execution_count": 47,
   "id": "f6ffce5e-36a5-44ff-8816-83189fe36cd2",
   "metadata": {},
   "outputs": [
    {
     "data": {
      "text/plain": [
       "['hello world is ', 'awesome']"
      ]
     },
     "execution_count": 47,
     "metadata": {},
     "output_type": "execute_result"
    }
   ],
   "source": [
    "## We can put parameter where we want it to split\n",
    "str.split('#')"
   ]
  },
  {
   "cell_type": "code",
   "execution_count": null,
   "id": "5772d37c-fd19-45a6-b3da-f584a50dab6f",
   "metadata": {},
   "outputs": [],
   "source": []
  },
  {
   "cell_type": "markdown",
   "id": "6cbdb2a1-6b2a-45a4-8df5-a34097efd43b",
   "metadata": {},
   "source": [
    "## Lists"
   ]
  },
  {
   "cell_type": "code",
   "execution_count": 53,
   "id": "f43d3903-674b-4b93-9e53-65e6dd47d5db",
   "metadata": {},
   "outputs": [
    {
     "name": "stdout",
     "output_type": "stream",
     "text": [
      "grapes\n"
     ]
    }
   ],
   "source": [
    "## List also has -ve indexing\n",
    "## -ve indexing starts from -1 at last position of a list\n",
    "\n",
    "##         -5      -4      -3      -2       -1\n",
    "list = ['apple','peach','mango','papaya','grapes']\n",
    "##          0       1       2       3        4\n",
    "print(list[-1])"
   ]
  },
  {
   "cell_type": "code",
   "execution_count": 57,
   "id": "151ce5f9-8256-486a-bcac-ef80bba74b86",
   "metadata": {},
   "outputs": [
    {
     "name": "stdout",
     "output_type": "stream",
     "text": [
      "[4, 5, [8, 5], 5]\n",
      "[8, 5]\n",
      "5\n"
     ]
    }
   ],
   "source": [
    "## We can also create nested lists\n",
    "list = [1,2,[4,5,[8,5],5],3,2]\n",
    "print(list[2])\n",
    "print(list[2][2])\n",
    "print(list[2][2][1])"
   ]
  },
  {
   "cell_type": "code",
   "execution_count": 5,
   "id": "2c855451-5c56-4d52-8844-773da0a5f9ec",
   "metadata": {},
   "outputs": [
    {
     "data": {
      "text/plain": [
       "4"
      ]
     },
     "execution_count": 5,
     "metadata": {},
     "output_type": "execute_result"
    }
   ],
   "source": [
    "## To get the total length of list use this--\n",
    "list = [4,5,7,6]\n",
    "len(list)"
   ]
  },
  {
   "cell_type": "code",
   "execution_count": 25,
   "id": "de58a8eb-b925-4411-9226-0e34e19dca46",
   "metadata": {},
   "outputs": [
    {
     "data": {
      "text/plain": [
       "0"
      ]
     },
     "execution_count": 25,
     "metadata": {},
     "output_type": "execute_result"
    }
   ],
   "source": [
    "## To find the index of certain element\n",
    "list = [4,5,7,6]\n",
    "list.index(4)"
   ]
  },
  {
   "cell_type": "code",
   "execution_count": 29,
   "id": "9bc4f832-71d5-4830-bcfb-8f7eb4d5676f",
   "metadata": {},
   "outputs": [
    {
     "name": "stdout",
     "output_type": "stream",
     "text": [
      "True\n",
      "False\n"
     ]
    }
   ],
   "source": [
    "## We can also check if an element is present in list or not using 'in' or 'not in' opeators\n",
    "list = [1,2,3,4]\n",
    "\n",
    "check1 = 4 in list\n",
    "check2 = 4 not in list\n",
    "\n",
    "print(check1)\n",
    "print(check2)"
   ]
  },
  {
   "cell_type": "code",
   "execution_count": 22,
   "id": "b013e3c2-b78e-4803-842d-1242541bcd10",
   "metadata": {},
   "outputs": [
    {
     "name": "stdout",
     "output_type": "stream",
     "text": [
      "[5, 6, 7]\n"
     ]
    }
   ],
   "source": [
    "## To get a piece or slice of list\n",
    "list = [4,5,6,7,9,3]\n",
    "newList = list[1:4]\n",
    "print(newList)"
   ]
  },
  {
   "cell_type": "code",
   "execution_count": 24,
   "id": "af6e390d-5de7-47fe-b0ab-c9836f29d025",
   "metadata": {},
   "outputs": [
    {
     "name": "stdout",
     "output_type": "stream",
     "text": [
      "[7, 9]\n"
     ]
    }
   ],
   "source": [
    "## We can also slice a list using -ve index\n",
    "newList = list[-3:-1]\n",
    "print(newList)"
   ]
  },
  {
   "cell_type": "code",
   "execution_count": 17,
   "id": "28143f8e-1042-4e8c-b21a-33e2d71e1d06",
   "metadata": {},
   "outputs": [
    {
     "name": "stdout",
     "output_type": "stream",
     "text": [
      "[1, 2, 3, 4, 5, 6, 7, 8]\n"
     ]
    }
   ],
   "source": [
    "## We can add two list together using '+' \n",
    "## This method create a new list using the elements of two lists\n",
    "list1 = [1,2,3,4]\n",
    "list2 = [5,6,7,8]\n",
    "\n",
    "list3 = list1 + list2\n",
    "print(list3)"
   ]
  },
  {
   "cell_type": "code",
   "execution_count": 19,
   "id": "2f69a5a4-7f93-4039-8ec0-679437c0565f",
   "metadata": {},
   "outputs": [
    {
     "name": "stdout",
     "output_type": "stream",
     "text": [
      "[1, 2, 3, 4, 5, 6, 7, 8]\n",
      "[5, 6, 7, 8]\n"
     ]
    }
   ],
   "source": [
    "## We can also extend one list as\n",
    "## This method does not create a new list but extend it\n",
    "list1 = [1,2,3,4]\n",
    "list2 = [5,6,7,8]\n",
    "\n",
    "list1.extend(list2)\n",
    "print(list1)\n",
    "print(list2)"
   ]
  },
  {
   "cell_type": "code",
   "execution_count": 20,
   "id": "f19740e3-a77b-4321-8f4c-461d133f2d95",
   "metadata": {},
   "outputs": [
    {
     "name": "stdout",
     "output_type": "stream",
     "text": [
      "[1, 2, 3, 1, 2, 3, 1, 2, 3]\n"
     ]
    }
   ],
   "source": [
    "## We can aslo use '*' to multiply a list\n",
    "list = [1,2,3]\n",
    "newList = list * 3\n",
    "print(newList)"
   ]
  },
  {
   "cell_type": "code",
   "execution_count": 7,
   "id": "bb712fd5-0299-445c-ba1c-28beae4a6138",
   "metadata": {},
   "outputs": [
    {
     "ename": "TypeError",
     "evalue": "'list' object is not callable",
     "output_type": "error",
     "traceback": [
      "\u001b[1;31m---------------------------------------------------------------------------\u001b[0m",
      "\u001b[1;31mTypeError\u001b[0m                                 Traceback (most recent call last)",
      "Cell \u001b[1;32mIn[7], line 2\u001b[0m\n\u001b[0;32m      1\u001b[0m \u001b[38;5;66;03m## To instantly create a list use this\u001b[39;00m\n\u001b[1;32m----> 2\u001b[0m \u001b[38;5;28mlist\u001b[39m(\u001b[38;5;28mrange\u001b[39m(\u001b[38;5;241m5\u001b[39m))\n",
      "\u001b[1;31mTypeError\u001b[0m: 'list' object is not callable"
     ]
    }
   ],
   "source": [
    "## To instantly create a list use this\n",
    "list(range(5))"
   ]
  },
  {
   "cell_type": "code",
   "execution_count": 8,
   "id": "8af58391-19d7-4430-9d34-2bd51926be63",
   "metadata": {},
   "outputs": [
    {
     "name": "stdout",
     "output_type": "stream",
     "text": [
      "[100, 1, 2, 3, 4]\n"
     ]
    }
   ],
   "source": [
    "## To insert something at any index\n",
    "list = [1,2,3,4]\n",
    "list.insert(0,100)\n",
    "print(list)"
   ]
  },
  {
   "cell_type": "code",
   "execution_count": 57,
   "id": "2d904977-9a18-4964-bee3-aa4fb1834881",
   "metadata": {},
   "outputs": [
    {
     "data": {
      "text/plain": [
       "[4, 9, 16, 25]"
      ]
     },
     "execution_count": 57,
     "metadata": {},
     "output_type": "execute_result"
    }
   ],
   "source": [
    "## To append something in last position list \n",
    "list1 = [2,3,4,5]\n",
    "list2 = []\n",
    "for x in list1:\n",
    "    list2.append(x ** 2)\n",
    "\n",
    "list2\n"
   ]
  },
  {
   "cell_type": "code",
   "execution_count": 9,
   "id": "57275901-2ac0-4bda-909f-39263948b0e9",
   "metadata": {},
   "outputs": [
    {
     "ename": "NameError",
     "evalue": "name 'list1' is not defined",
     "output_type": "error",
     "traceback": [
      "\u001b[1;31m---------------------------------------------------------------------------\u001b[0m",
      "\u001b[1;31mNameError\u001b[0m                                 Traceback (most recent call last)",
      "Cell \u001b[1;32mIn[9], line 4\u001b[0m\n\u001b[0;32m      1\u001b[0m \u001b[38;5;66;03m## List Compression\u001b[39;00m\n\u001b[0;32m      2\u001b[0m \u001b[38;5;66;03m## We can create a list instantly based on another list\u001b[39;00m\n\u001b[0;32m      3\u001b[0m \u001b[38;5;66;03m## We can simplify above code as--\u001b[39;00m\n\u001b[1;32m----> 4\u001b[0m \u001b[38;5;28mlist\u001b[39m \u001b[38;5;241m=\u001b[39m [x \u001b[38;5;241m*\u001b[39m\u001b[38;5;241m*\u001b[39m \u001b[38;5;241m2\u001b[39m \u001b[38;5;28;01mfor\u001b[39;00m x \u001b[38;5;129;01min\u001b[39;00m list1]\n\u001b[0;32m      5\u001b[0m \u001b[38;5;28mlist\u001b[39m\n",
      "\u001b[1;31mNameError\u001b[0m: name 'list1' is not defined"
     ]
    }
   ],
   "source": [
    "## List Compression\n",
    "## We can create a list instantly based on another list\n",
    "## We can simplify above code as--\n",
    "list = [x ** 2 for x in list1]\n",
    "list"
   ]
  },
  {
   "cell_type": "code",
   "execution_count": 11,
   "id": "2c6f9a81-a5aa-4454-89c4-20d0ce8dd94d",
   "metadata": {},
   "outputs": [
    {
     "name": "stdout",
     "output_type": "stream",
     "text": [
      "[2, 3, 4, 1]\n"
     ]
    }
   ],
   "source": [
    "## To remove any particular element from list\n",
    "list = [1,2,3,4,1]\n",
    "list.remove(1)\n",
    "print(list)"
   ]
  },
  {
   "cell_type": "code",
   "execution_count": 61,
   "id": "12e5b9ae-b5f4-4323-acde-5e35937218c0",
   "metadata": {},
   "outputs": [
    {
     "data": {
      "text/plain": [
       "[1, 2, 3, 4]"
      ]
     },
     "execution_count": 61,
     "metadata": {},
     "output_type": "execute_result"
    }
   ],
   "source": [
    "## To remove last element from a list\n",
    "list = [1,2,3,4,5]\n",
    "list.pop()\n",
    "list"
   ]
  },
  {
   "cell_type": "code",
   "execution_count": 30,
   "id": "d195f911-96f4-471d-be33-f1e4732b5a2f",
   "metadata": {},
   "outputs": [
    {
     "data": {
      "text/plain": [
       "[1, 3, 4]"
      ]
     },
     "execution_count": 30,
     "metadata": {},
     "output_type": "execute_result"
    }
   ],
   "source": [
    "## We can also specify position where we want to remove an element\n",
    "list.pop(1)\n",
    "list"
   ]
  },
  {
   "cell_type": "code",
   "execution_count": 52,
   "id": "0d057f84-0597-4e4f-957a-d2b368cd1695",
   "metadata": {},
   "outputs": [
    {
     "ename": "ModuleNotFoundError",
     "evalue": "No module named 'functions'",
     "output_type": "error",
     "traceback": [
      "\u001b[1;31m---------------------------------------------------------------------------\u001b[0m",
      "\u001b[1;31mModuleNotFoundError\u001b[0m                       Traceback (most recent call last)",
      "Cell \u001b[1;32mIn[52], line 3\u001b[0m\n\u001b[0;32m      1\u001b[0m \u001b[38;5;66;03m## We can also check maximum or minimun element in list using--\u001b[39;00m\n\u001b[1;32m----> 3\u001b[0m \u001b[38;5;28;01mimport\u001b[39;00m \u001b[38;5;21;01mfunctions\u001b[39;00m \u001b[38;5;28;01mas\u001b[39;00m \u001b[38;5;21;01mF\u001b[39;00m\n\u001b[0;32m      4\u001b[0m score \u001b[38;5;241m=\u001b[39m [\u001b[38;5;241m1\u001b[39m,\u001b[38;5;241m2\u001b[39m,\u001b[38;5;241m3\u001b[39m,\u001b[38;5;241m4\u001b[39m,\u001b[38;5;241m5\u001b[39m,\u001b[38;5;241m7\u001b[39m]\n\u001b[0;32m      6\u001b[0m minimum \u001b[38;5;241m=\u001b[39m \u001b[38;5;28mmin\u001b[39m(score)\n",
      "\u001b[1;31mModuleNotFoundError\u001b[0m: No module named 'functions'"
     ]
    }
   ],
   "source": [
    "## We can also check maximum or minimun element in list using--\n",
    "score = [1,2,3,4,5,7]\n",
    "\n",
    "minimum = min(score)\n",
    "maxmum = max(score)\n",
    "print(minimum)\n",
    "print(maxmum)"
   ]
  },
  {
   "cell_type": "code",
   "execution_count": null,
   "id": "d05cd9f9-d21c-42c0-97c0-955419dbd390",
   "metadata": {},
   "outputs": [],
   "source": []
  },
  {
   "cell_type": "code",
   "execution_count": null,
   "id": "25e95e05-8bc7-4309-9c38-e3f1653c4194",
   "metadata": {},
   "outputs": [],
   "source": []
  },
  {
   "cell_type": "markdown",
   "id": "a53f2a96-dc53-403d-990f-8fedb85b23f8",
   "metadata": {},
   "source": [
    "## Dictonaries"
   ]
  },
  {
   "cell_type": "code",
   "execution_count": 15,
   "id": "b92e21f1-2121-46ba-ac97-da5b0e103809",
   "metadata": {},
   "outputs": [
    {
     "ename": "TypeError",
     "evalue": "'dict' object is not callable",
     "output_type": "error",
     "traceback": [
      "\u001b[1;31m---------------------------------------------------------------------------\u001b[0m",
      "\u001b[1;31mTypeError\u001b[0m                                 Traceback (most recent call last)",
      "Cell \u001b[1;32mIn[15], line 4\u001b[0m\n\u001b[0;32m      1\u001b[0m \u001b[38;5;66;03m## We have two ways for creating a dictonary\u001b[39;00m\n\u001b[0;32m      2\u001b[0m \u001b[38;5;66;03m## 1. d =  {a,b,c,d}\u001b[39;00m\n\u001b[0;32m      3\u001b[0m \u001b[38;5;66;03m## Another is like this --\u001b[39;00m\n\u001b[1;32m----> 4\u001b[0m people \u001b[38;5;241m=\u001b[39m \u001b[38;5;28mdict\u001b[39m(\n\u001b[0;32m      5\u001b[0m     john \u001b[38;5;241m=\u001b[39m \u001b[38;5;241m42\u001b[39m,\n\u001b[0;32m      6\u001b[0m     sam \u001b[38;5;241m=\u001b[39m \u001b[38;5;241m36\u001b[39m\n\u001b[0;32m      7\u001b[0m )\n\u001b[0;32m      8\u001b[0m \u001b[38;5;28mprint\u001b[39m(people)\n",
      "\u001b[1;31mTypeError\u001b[0m: 'dict' object is not callable"
     ]
    }
   ],
   "source": [
    "## We have two ways for creating a dictonary\n",
    "## 1. d =  {a,b,c,d}\n",
    "## Another is like this --\n",
    "people = dict(\n",
    "    john = 42,\n",
    "    sam = 36\n",
    ")\n",
    "print(people)"
   ]
  },
  {
   "cell_type": "code",
   "execution_count": 20,
   "id": "b4bc7a86-1d4c-487f-b6f9-6b5484a7ee02",
   "metadata": {},
   "outputs": [
    {
     "name": "stdout",
     "output_type": "stream",
     "text": [
      "sam\n"
     ]
    }
   ],
   "source": [
    "## To get any key's value we have two methods\n",
    "## Method - 1\n",
    "data = {'name':'sam','roll':5}\n",
    "print(data['name'])"
   ]
  },
  {
   "cell_type": "code",
   "execution_count": 21,
   "id": "c399a494-dac0-4122-b4cb-1626c700e1df",
   "metadata": {},
   "outputs": [
    {
     "ename": "KeyError",
     "evalue": "'email'",
     "output_type": "error",
     "traceback": [
      "\u001b[1;31m---------------------------------------------------------------------------\u001b[0m",
      "\u001b[1;31mKeyError\u001b[0m                                  Traceback (most recent call last)",
      "Cell \u001b[1;32mIn[21], line 2\u001b[0m\n\u001b[0;32m      1\u001b[0m \u001b[38;5;66;03m## This method will give an error if we try to access something that is not present in the given dictonary\u001b[39;00m\n\u001b[1;32m----> 2\u001b[0m data[\u001b[38;5;124m'\u001b[39m\u001b[38;5;124memail\u001b[39m\u001b[38;5;124m'\u001b[39m]\n",
      "\u001b[1;31mKeyError\u001b[0m: 'email'"
     ]
    }
   ],
   "source": [
    "## This method will give an error if we try to access something that is not present in the given dictonary\n",
    "data['email']"
   ]
  },
  {
   "cell_type": "code",
   "execution_count": 24,
   "id": "70bd2077-dad8-4098-8fdd-e9fde675042d",
   "metadata": {},
   "outputs": [
    {
     "name": "stdout",
     "output_type": "stream",
     "text": [
      "None\n"
     ]
    }
   ],
   "source": [
    "## Thats the reason second method is better\n",
    "## It returns none if key is not there\n",
    "print(data.get('email'))"
   ]
  },
  {
   "cell_type": "code",
   "execution_count": 3,
   "id": "bf6c9348-9380-4931-9c57-0d9731b86e52",
   "metadata": {},
   "outputs": [
    {
     "data": {
      "text/plain": [
       "dict_keys(['name', 'roll'])"
      ]
     },
     "execution_count": 3,
     "metadata": {},
     "output_type": "execute_result"
    }
   ],
   "source": [
    "data = {'name' : 'sam','roll': 5}\n",
    "\n",
    "## keys method will give all its keys  inside an array\n",
    "data.keys()"
   ]
  },
  {
   "cell_type": "code",
   "execution_count": 2,
   "id": "1a859341-924c-4a34-bfbd-2d10e2a53c6d",
   "metadata": {},
   "outputs": [
    {
     "data": {
      "text/plain": [
       "dict_values(['sam', 5])"
      ]
     },
     "execution_count": 2,
     "metadata": {},
     "output_type": "execute_result"
    }
   ],
   "source": [
    "## values method will give all its value inside an array\n",
    "data.values()"
   ]
  },
  {
   "cell_type": "code",
   "execution_count": 13,
   "id": "8adee316-d872-4305-9133-ef5584ce52eb",
   "metadata": {},
   "outputs": [
    {
     "ename": "NameError",
     "evalue": "name 'data' is not defined",
     "output_type": "error",
     "traceback": [
      "\u001b[1;31m---------------------------------------------------------------------------\u001b[0m",
      "\u001b[1;31mNameError\u001b[0m                                 Traceback (most recent call last)",
      "Cell \u001b[1;32mIn[13], line 2\u001b[0m\n\u001b[0;32m      1\u001b[0m \u001b[38;5;66;03m## items method give both keys and its values separately\u001b[39;00m\n\u001b[1;32m----> 2\u001b[0m data\u001b[38;5;241m.\u001b[39mitems()\n",
      "\u001b[1;31mNameError\u001b[0m: name 'data' is not defined"
     ]
    }
   ],
   "source": [
    "## items method give both keys and its values separately\n",
    "data.items()"
   ]
  },
  {
   "cell_type": "code",
   "execution_count": 29,
   "id": "2661422c-9422-405d-9532-55e3b02243f2",
   "metadata": {},
   "outputs": [
    {
     "name": "stdout",
     "output_type": "stream",
     "text": [
      "{'john': 30, 'mia': 20}\n"
     ]
    }
   ],
   "source": [
    "## To remove a key from dictonary\n",
    "data = {'john':30,'sam':40,'mia':20}\n",
    "data.pop('sam')\n",
    "print(data)"
   ]
  },
  {
   "cell_type": "code",
   "execution_count": 31,
   "id": "7b2b1e1e-bad3-4eea-ab5d-f9321ed6b1d1",
   "metadata": {},
   "outputs": [
    {
     "name": "stdout",
     "output_type": "stream",
     "text": [
      "{'ipad': '500', 'mac': 500, 'iphone': 600}\n",
      "{'ipad': '500', 'iphone': 600}\n"
     ]
    }
   ],
   "source": [
    "## To update a given dictonary\n",
    "price = {'ipad':400,'mac':500}\n",
    "new_price = {'ipad':'500','iphone':600}\n",
    "\n",
    "price.update(new_price)\n",
    "print(price)\n",
    "print(new_price)\n",
    "## If some key is present then it will update its value otherwise it will add it"
   ]
  },
  {
   "cell_type": "markdown",
   "id": "ffa69af3-c76e-4acf-942d-374064b20225",
   "metadata": {},
   "source": [
    "## Sets"
   ]
  },
  {
   "cell_type": "code",
   "execution_count": 34,
   "id": "5ff3ff83-70d7-4cc8-87fc-7cd6d43c9c5f",
   "metadata": {},
   "outputs": [
    {
     "name": "stdout",
     "output_type": "stream",
     "text": [
      "{1, 2, 3, 5, 6}\n"
     ]
    }
   ],
   "source": [
    "## Sets in python is same as in mathematics , We can create sets as\n",
    "\n",
    "set1 = {5,3,3,1,2,6,2}\n",
    "print(set1)\n",
    "## As we can see it eliminates extra repeating value\n",
    "## Sets is always unordered so we cant expect it to arrange elements,"
   ]
  },
  {
   "cell_type": "code",
   "execution_count": 42,
   "id": "e346187c-c6b5-470d-9d1c-cfd797aa3232",
   "metadata": {},
   "outputs": [
    {
     "name": "stdout",
     "output_type": "stream",
     "text": [
      "{'ken', 'John', 'Rob', 'Alpha'}\n"
     ]
    }
   ],
   "source": [
    "## We can also use strings inside sets\n",
    "## Here we can see, it didnt arrange the elements as sets are unordered list\n",
    "\n",
    "name = {'Rob','John','Alpha','ken'}\n",
    "print(name)"
   ]
  },
  {
   "cell_type": "code",
   "execution_count": 35,
   "id": "bfde41a8-78ba-44be-a5ee-84e125d3d53d",
   "metadata": {},
   "outputs": [
    {
     "name": "stdout",
     "output_type": "stream",
     "text": [
      "{1, 2, 3, 5, 8}\n"
     ]
    }
   ],
   "source": [
    "## We can also create using an array using set method\n",
    "new_set = set([5,5,3,8,2,1])\n",
    "print(new_set)"
   ]
  },
  {
   "cell_type": "code",
   "execution_count": 45,
   "id": "26959ff7-deb7-420e-98f7-7190e4e036da",
   "metadata": {},
   "outputs": [
    {
     "name": "stdout",
     "output_type": "stream",
     "text": [
      "<class 'dict'>\n"
     ]
    }
   ],
   "source": [
    "## We cannot create an empty set like this--\n",
    "\n",
    "empty_set = {}\n",
    "print(type(empty_set))\n",
    "\n",
    "## Here we can see it says, its a dict type not a set"
   ]
  },
  {
   "cell_type": "code",
   "execution_count": 48,
   "id": "0d563a7d-b5b9-408a-9f35-c4260947d815",
   "metadata": {},
   "outputs": [
    {
     "name": "stdout",
     "output_type": "stream",
     "text": [
      "set()\n",
      "<class 'set'>\n",
      "0\n"
     ]
    }
   ],
   "source": [
    "## Instead, we use this to create an empty set\n",
    "\n",
    "empty_set = set()\n",
    "print(empty_set)\n",
    "print(type(empty_set))\n",
    "print(len(empty_set))\n",
    "\n",
    "## Now it says its a set type and it has 0 elements"
   ]
  },
  {
   "cell_type": "code",
   "execution_count": 50,
   "id": "b8d09c12-38c2-4625-af8d-15de7c646524",
   "metadata": {},
   "outputs": [
    {
     "name": "stdout",
     "output_type": "stream",
     "text": [
      "{1, 2, 4, 5, 7, 8}\n"
     ]
    }
   ],
   "source": [
    "## Like in meths, We have union and intersection in sets\n",
    "set1 = {1,2,4,5}\n",
    "set2 = {4,5,7,8}\n",
    "\n",
    "## For union of sets, We use '|' \n",
    "new_set = set1 | set2\n",
    "print(new_set)"
   ]
  },
  {
   "cell_type": "code",
   "execution_count": 51,
   "id": "431cc9a7-0c2d-42e0-9d1d-20717a87e1ae",
   "metadata": {},
   "outputs": [
    {
     "name": "stdout",
     "output_type": "stream",
     "text": [
      "{4, 5}\n"
     ]
    }
   ],
   "source": [
    "## For intersection of sets, We use '&' \n",
    "new_set = set1 & set2\n",
    "print(new_set)\n"
   ]
  },
  {
   "cell_type": "code",
   "execution_count": 54,
   "id": "a369d3bb-fad1-4182-91f5-1fc6c6600c9e",
   "metadata": {},
   "outputs": [
    {
     "name": "stdout",
     "output_type": "stream",
     "text": [
      "{1, 2}\n"
     ]
    }
   ],
   "source": [
    "## We can use '-' to subtract one set from another\n",
    "set1 = {1,2,4,5}\n",
    "set2 = {4,5,7,8}\n",
    "\n",
    "new_set = set1 - set2\n",
    "print(new_set)"
   ]
  },
  {
   "cell_type": "code",
   "execution_count": 55,
   "id": "ead9520a-345b-4d82-b063-e3423db8a5f7",
   "metadata": {},
   "outputs": [
    {
     "name": "stdout",
     "output_type": "stream",
     "text": [
      "{1, 2, 7, 8}\n"
     ]
    }
   ],
   "source": [
    "## We also have something opposite of intersection\n",
    "## It print both sets element except the ones which are present in both\n",
    "new_set = set1 ^ set2\n",
    "print(new_set)"
   ]
  },
  {
   "cell_type": "code",
   "execution_count": 60,
   "id": "ebdef257-7efd-4ec8-9a3f-fa9fdfd83e92",
   "metadata": {},
   "outputs": [
    {
     "name": "stdout",
     "output_type": "stream",
     "text": [
      "{1, 3, 4}\n"
     ]
    }
   ],
   "source": [
    "## WE can remove a specific element from set as\n",
    "set1 = {1,2,3,4}\n",
    "set1.remove(2)\n",
    "print(set1)"
   ]
  },
  {
   "cell_type": "code",
   "execution_count": 58,
   "id": "2ba76087-3953-41b5-ad37-c1121ced99eb",
   "metadata": {},
   "outputs": [
    {
     "name": "stdout",
     "output_type": "stream",
     "text": [
      "{1, 3, 4, 5}\n"
     ]
    }
   ],
   "source": [
    "## We can also add somthing in list using add method\n",
    "set1.add(5)\n",
    "print(set1)"
   ]
  },
  {
   "cell_type": "code",
   "execution_count": 61,
   "id": "a8dbf474-6478-4262-8bbc-2b1a1f50245b",
   "metadata": {},
   "outputs": [
    {
     "name": "stdout",
     "output_type": "stream",
     "text": [
      "{9, 2, 5}\n"
     ]
    }
   ],
   "source": [
    "## We can remove a rondom element from set using pop\n",
    "set2 = {5,2,8,9}\n",
    "set2.pop()\n",
    "print(set2)"
   ]
  },
  {
   "cell_type": "code",
   "execution_count": null,
   "id": "aae4e6c2-38d2-401d-83ad-08b7b4cd7a06",
   "metadata": {},
   "outputs": [],
   "source": []
  }
 ],
 "metadata": {
  "kernelspec": {
   "display_name": "Python 3 (ipykernel)",
   "language": "python",
   "name": "python3"
  },
  "language_info": {
   "codemirror_mode": {
    "name": "ipython",
    "version": 3
   },
   "file_extension": ".py",
   "mimetype": "text/x-python",
   "name": "python",
   "nbconvert_exporter": "python",
   "pygments_lexer": "ipython3",
   "version": "3.11.7"
  }
 },
 "nbformat": 4,
 "nbformat_minor": 5
}
