{
 "cells": [
  {
   "cell_type": "markdown",
   "id": "7c6e7942-9629-43a9-a53e-55cd8dded10d",
   "metadata": {},
   "source": [
    "# Numpy Notes"
   ]
  },
  {
   "cell_type": "markdown",
   "id": "01284318-1d65-413f-8003-9517d5f4f12a",
   "metadata": {},
   "source": [
    "* **What is Numpy?**\n",
    "    * **Python library for creating N-dimensional arrays**\n",
    "    * **Ability to quickly broadcast functions**\n",
    "    * **Built-in linear algebra,statistical distributions,trigonometric and random number capabilities**\n",
    "      "
   ]
  },
  {
   "cell_type": "markdown",
   "id": "2e1f3976-16a6-4330-8d90-1bf80c151aec",
   "metadata": {},
   "source": [
    "## How to create numpy array from existing array"
   ]
  },
  {
   "cell_type": "code",
   "execution_count": 32,
   "id": "fca7037b-cc89-4c26-a9d9-2cc23c97b0b3",
   "metadata": {},
   "outputs": [
    {
     "data": {
      "text/plain": [
       "[1, 2, 3, 4, 5, 6, 7, 8]"
      ]
     },
     "execution_count": 32,
     "metadata": {},
     "output_type": "execute_result"
    }
   ],
   "source": [
    "## First We import numpy as--\n",
    "import numpy as np\n",
    "\n",
    "## Here is our actual List\n",
    "list = [1,2,3,4,5,6,7,8]\n",
    "list"
   ]
  },
  {
   "cell_type": "code",
   "execution_count": 17,
   "id": "abc1eb22-8d60-4ca3-a6f7-5f3540d588f8",
   "metadata": {},
   "outputs": [
    {
     "data": {
      "text/plain": [
       "list"
      ]
     },
     "execution_count": 17,
     "metadata": {},
     "output_type": "execute_result"
    }
   ],
   "source": [
    "type(list)"
   ]
  },
  {
   "cell_type": "code",
   "execution_count": 15,
   "id": "d87a878f-dcbf-46e4-a919-01c802b6e680",
   "metadata": {},
   "outputs": [
    {
     "data": {
      "text/plain": [
       "array([1, 2, 3, 4, 5, 6, 7, 8])"
      ]
     },
     "execution_count": 15,
     "metadata": {},
     "output_type": "execute_result"
    }
   ],
   "source": [
    "## Here is how we create a numpy array\n",
    "## When we use this, it returns a numpy array, it doesnt change the actural one\n",
    "np.array(list)"
   ]
  },
  {
   "cell_type": "code",
   "execution_count": 18,
   "id": "f8eb4358-be80-4a74-a045-26ad09eefc08",
   "metadata": {},
   "outputs": [
    {
     "data": {
      "text/plain": [
       "list"
      ]
     },
     "execution_count": 18,
     "metadata": {},
     "output_type": "execute_result"
    }
   ],
   "source": [
    "## Here type of actural list does not change \n",
    "type(list)"
   ]
  },
  {
   "cell_type": "code",
   "execution_count": 19,
   "id": "4e1c86da-ec1d-4014-9111-7fda616100b8",
   "metadata": {},
   "outputs": [
    {
     "data": {
      "text/plain": [
       "numpy.ndarray"
      ]
     },
     "execution_count": 19,
     "metadata": {},
     "output_type": "execute_result"
    }
   ],
   "source": [
    "## To change the actural list, We do this\n",
    "list = np.array(list)\n",
    "\n",
    "## Now lets see the type\n",
    "type(list)\n",
    "\n",
    "## Its numpy array "
   ]
  },
  {
   "cell_type": "code",
   "execution_count": 20,
   "id": "63b540d7-6300-4c2e-b413-865fbb850369",
   "metadata": {},
   "outputs": [
    {
     "data": {
      "text/plain": [
       "array([[1, 2, 3],\n",
       "       [4, 5, 6],\n",
       "       [7, 8, 9]])"
      ]
     },
     "execution_count": 20,
     "metadata": {},
     "output_type": "execute_result"
    }
   ],
   "source": [
    "## We can use numpy array with nested arrays as well and it will represent itself in more readble way\n",
    "new_list = [[1,2,3],[4,5,6],[7,8,9]]\n",
    "np.array(new_list)"
   ]
  },
  {
   "cell_type": "code",
   "execution_count": 23,
   "id": "98824f45-9601-4e18-b6ad-5e5e55cfdf6d",
   "metadata": {},
   "outputs": [
    {
     "ename": "ValueError",
     "evalue": "setting an array element with a sequence. The requested array has an inhomogeneous shape after 1 dimensions. The detected shape was (3,) + inhomogeneous part.",
     "output_type": "error",
     "traceback": [
      "\u001b[1;31m---------------------------------------------------------------------------\u001b[0m",
      "\u001b[1;31mValueError\u001b[0m                                Traceback (most recent call last)",
      "Cell \u001b[1;32mIn[23], line 3\u001b[0m\n\u001b[0;32m      1\u001b[0m \u001b[38;5;66;03m## This is what happens when we try to create array other than m x n representation\u001b[39;00m\n\u001b[0;32m      2\u001b[0m new_list \u001b[38;5;241m=\u001b[39m [[\u001b[38;5;241m1\u001b[39m,],[\u001b[38;5;241m4\u001b[39m,\u001b[38;5;241m5\u001b[39m,\u001b[38;5;241m6\u001b[39m],[\u001b[38;5;241m7\u001b[39m,\u001b[38;5;241m8\u001b[39m]]\n\u001b[1;32m----> 3\u001b[0m np\u001b[38;5;241m.\u001b[39marray(new_list)\n",
      "\u001b[1;31mValueError\u001b[0m: setting an array element with a sequence. The requested array has an inhomogeneous shape after 1 dimensions. The detected shape was (3,) + inhomogeneous part."
     ]
    }
   ],
   "source": [
    "## This is what happens when we try to create array other than m x n representation\n",
    "## It will give us an error\n",
    "new_list = [[1,],[4,5,6],[7,8]]\n",
    "np.array(new_list)"
   ]
  },
  {
   "cell_type": "markdown",
   "id": "27eeaa23-fbd9-45b1-906e-489ec97f35f8",
   "metadata": {},
   "source": [
    "## Creating instant numpy arrays with built-in functions"
   ]
  },
  {
   "cell_type": "code",
   "execution_count": 24,
   "id": "8bc54e6d-4695-4f4c-b9ea-f95c9158e3de",
   "metadata": {},
   "outputs": [
    {
     "data": {
      "text/plain": [
       "array([0., 0., 0., 0., 0.])"
      ]
     },
     "execution_count": 24,
     "metadata": {},
     "output_type": "execute_result"
    }
   ],
   "source": [
    "## To create a numpy array with only zeros , we use this\n",
    "np.zeros(5)"
   ]
  },
  {
   "cell_type": "code",
   "execution_count": 29,
   "id": "2b7d2574-9de4-4f85-9fcf-f1f2b8ad3399",
   "metadata": {},
   "outputs": [
    {
     "data": {
      "text/plain": [
       "array([[0., 0., 0.],\n",
       "       [0., 0., 0.],\n",
       "       [0., 0., 0.]])"
      ]
     },
     "execution_count": 29,
     "metadata": {},
     "output_type": "execute_result"
    }
   ],
   "source": [
    "## If we want to create 2d-matrix,we can use like this--\n",
    "\n",
    "np.zeros((3,3))"
   ]
  },
  {
   "cell_type": "code",
   "execution_count": 30,
   "id": "0188b769-610b-4196-b789-d8c8240cb417",
   "metadata": {},
   "outputs": [
    {
     "data": {
      "text/plain": [
       "array([0, 0, 0, 0, 0])"
      ]
     },
     "execution_count": 30,
     "metadata": {},
     "output_type": "execute_result"
    }
   ],
   "source": [
    "## By default it use float data type,We can change it as\n",
    "np.zeros(5,dtype='int')"
   ]
  },
  {
   "cell_type": "code",
   "execution_count": 44,
   "id": "04675445-c8cb-4d9c-abd0-31d95beaf912",
   "metadata": {},
   "outputs": [
    {
     "data": {
      "text/plain": [
       "array([1., 1., 1., 1., 1., 1.])"
      ]
     },
     "execution_count": 44,
     "metadata": {},
     "output_type": "execute_result"
    }
   ],
   "source": [
    "## Similarly, We can create a arrays of one\n",
    "## And same arguments passed as zeros method\n",
    "np.ones(6)"
   ]
  },
  {
   "cell_type": "code",
   "execution_count": 48,
   "id": "33dacb11-de32-4593-918b-6c9eee038433",
   "metadata": {},
   "outputs": [
    {
     "data": {
      "text/plain": [
       "array([[1., 0., 0.],\n",
       "       [0., 1., 0.],\n",
       "       [0., 0., 1.]])"
      ]
     },
     "execution_count": 48,
     "metadata": {},
     "output_type": "execute_result"
    }
   ],
   "source": [
    "## We aslo have method for creating identity matrix\n",
    "## If we pass only one arguemnt then it will create square matrix of that\n",
    "np.eye(3)"
   ]
  },
  {
   "cell_type": "code",
   "execution_count": 49,
   "id": "61228e3b-221d-4c03-9dc1-00ef212ecb19",
   "metadata": {},
   "outputs": [
    {
     "data": {
      "text/plain": [
       "array([[1., 0., 0., 0.],\n",
       "       [0., 1., 0., 0.],\n",
       "       [0., 0., 1., 0.]])"
      ]
     },
     "execution_count": 49,
     "metadata": {},
     "output_type": "execute_result"
    }
   ],
   "source": [
    "## If we pass two argument then we create N-dimensional identity matrix\n",
    "np.eye(3,4)"
   ]
  },
  {
   "cell_type": "markdown",
   "id": "d096a098-8c00-493e-a714-66b380e25c54",
   "metadata": {},
   "source": [
    "### Methods to create numpy array in range"
   ]
  },
  {
   "cell_type": "code",
   "execution_count": 35,
   "id": "9fa17bd8-6be0-486a-a322-d9d0f040393d",
   "metadata": {},
   "outputs": [
    {
     "data": {
      "text/plain": [
       "array([4, 5, 6, 7, 8, 9])"
      ]
     },
     "execution_count": 35,
     "metadata": {},
     "output_type": "execute_result"
    }
   ],
   "source": [
    "## It create numpy array in range\n",
    "np.arange(4,10)"
   ]
  },
  {
   "cell_type": "code",
   "execution_count": 36,
   "id": "59c65dfd-555e-41f7-9e41-efa1b735b118",
   "metadata": {},
   "outputs": [
    {
     "data": {
      "text/plain": [
       "array([1, 3, 5, 7, 9])"
      ]
     },
     "execution_count": 36,
     "metadata": {},
     "output_type": "execute_result"
    }
   ],
   "source": [
    "## We can also pass third argument in arange method\n",
    "## It is taken as 'step' (It create value on an interval of given step)\n",
    "np.arange(1,11,2)"
   ]
  },
  {
   "cell_type": "code",
   "execution_count": 40,
   "id": "1988e4e9-2064-4539-a41f-bf826e566106",
   "metadata": {},
   "outputs": [
    {
     "data": {
      "text/plain": [
       "array([ 1.,  4.,  7., 10.])"
      ]
     },
     "execution_count": 40,
     "metadata": {},
     "output_type": "execute_result"
    }
   ],
   "source": [
    "## We have a similar function just like arange which is linspace\n",
    "## First two arguments are range with last one included\n",
    "## Third one is how many no u want in the given range on equal interval\n",
    "np.linspace(1,10,4)"
   ]
  },
  {
   "cell_type": "markdown",
   "id": "a34671b8-32be-4a87-b1cc-8d9282c40036",
   "metadata": {},
   "source": [
    "### Methods to create numpy array with random values"
   ]
  },
  {
   "cell_type": "code",
   "execution_count": 50,
   "id": "eaeef795-58ac-4d7e-b032-771d90d097eb",
   "metadata": {},
   "outputs": [
    {
     "data": {
      "text/plain": [
       "0.7394315977553527"
      ]
     },
     "execution_count": 50,
     "metadata": {},
     "output_type": "execute_result"
    }
   ],
   "source": [
    "## When we dont pass any arguement then it will give us one random value between 0 and 1\n",
    "np.random.rand()"
   ]
  },
  {
   "cell_type": "code",
   "execution_count": 53,
   "id": "55b7f10c-46ea-41be-add8-4837e267f395",
   "metadata": {},
   "outputs": [
    {
     "data": {
      "text/plain": [
       "array([[0.75221036, 0.50863999, 0.04274735],\n",
       "       [0.58576151, 0.54396489, 0.30322172]])"
      ]
     },
     "execution_count": 53,
     "metadata": {},
     "output_type": "execute_result"
    }
   ],
   "source": [
    "## It takes two arguments as rows and columns\n",
    "np.random.rand(2,3)"
   ]
  },
  {
   "cell_type": "code",
   "execution_count": 55,
   "id": "25023e50-842a-48db-b0d7-64f1d593046b",
   "metadata": {},
   "outputs": [
    {
     "data": {
      "text/plain": [
       "array([16, 16, 15, 11, 16])"
      ]
     },
     "execution_count": 55,
     "metadata": {},
     "output_type": "execute_result"
    }
   ],
   "source": [
    "## We can create random values in range as\n",
    "## First two argument is range\n",
    "## Third is size passed as (rows,columns)\n",
    "np.random.randint(10,20,5)"
   ]
  },
  {
   "cell_type": "code",
   "execution_count": 56,
   "id": "a6da39d7-0fc2-4419-b53c-a05d4970a17e",
   "metadata": {},
   "outputs": [
    {
     "data": {
      "text/plain": [
       "array([[18, 13, 17, 14, 10],\n",
       "       [18, 14, 15, 13, 17],\n",
       "       [17, 11, 12, 17, 13],\n",
       "       [12, 16, 17, 11, 15]])"
      ]
     },
     "execution_count": 56,
     "metadata": {},
     "output_type": "execute_result"
    }
   ],
   "source": [
    "np.random.randint(10,20,(4,5))"
   ]
  },
  {
   "cell_type": "code",
   "execution_count": null,
   "id": "cebefbfc-4fae-4cac-9c15-1a7c2f251516",
   "metadata": {},
   "outputs": [],
   "source": []
  }
 ],
 "metadata": {
  "kernelspec": {
   "display_name": "Python 3 (ipykernel)",
   "language": "python",
   "name": "python3"
  },
  "language_info": {
   "codemirror_mode": {
    "name": "ipython",
    "version": 3
   },
   "file_extension": ".py",
   "mimetype": "text/x-python",
   "name": "python",
   "nbconvert_exporter": "python",
   "pygments_lexer": "ipython3",
   "version": "3.11.7"
  }
 },
 "nbformat": 4,
 "nbformat_minor": 5
}
