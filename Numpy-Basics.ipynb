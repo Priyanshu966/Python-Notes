{
 "cells": [
  {
   "cell_type": "markdown",
   "id": "7c6e7942-9629-43a9-a53e-55cd8dded10d",
   "metadata": {},
   "source": [
    "# Numpy Notes"
   ]
  },
  {
   "cell_type": "markdown",
   "id": "01284318-1d65-413f-8003-9517d5f4f12a",
   "metadata": {},
   "source": [
    "* **What is Numpy?**\n",
    "    * **Python library for creating N-dimensional arrays**\n",
    "    * **Ability to quickly broadcast functions**\n",
    "    * **Built-in linear algebra,statistical distributions,trigonometric and random number capabilities**\n",
    "      "
   ]
  },
  {
   "cell_type": "markdown",
   "id": "2e1f3976-16a6-4330-8d90-1bf80c151aec",
   "metadata": {},
   "source": [
    "## How to create numpy array from existing array"
   ]
  },
  {
   "cell_type": "code",
   "execution_count": 3,
   "id": "fca7037b-cc89-4c26-a9d9-2cc23c97b0b3",
   "metadata": {},
   "outputs": [
    {
     "data": {
      "text/plain": [
       "[1, 2, 3, 4, 5, 6, 7, 8]"
      ]
     },
     "execution_count": 3,
     "metadata": {},
     "output_type": "execute_result"
    }
   ],
   "source": [
    "## First We import numpy as--\n",
    "import numpy as np\n",
    "\n",
    "## Here is our actual List\n",
    "list = [1,2,3,4,5,6,7,8]\n",
    "list"
   ]
  },
  {
   "cell_type": "code",
   "execution_count": 17,
   "id": "abc1eb22-8d60-4ca3-a6f7-5f3540d588f8",
   "metadata": {},
   "outputs": [
    {
     "data": {
      "text/plain": [
       "list"
      ]
     },
     "execution_count": 17,
     "metadata": {},
     "output_type": "execute_result"
    }
   ],
   "source": [
    "type(list)"
   ]
  },
  {
   "cell_type": "code",
   "execution_count": 15,
   "id": "d87a878f-dcbf-46e4-a919-01c802b6e680",
   "metadata": {},
   "outputs": [
    {
     "data": {
      "text/plain": [
       "array([1, 2, 3, 4, 5, 6, 7, 8])"
      ]
     },
     "execution_count": 15,
     "metadata": {},
     "output_type": "execute_result"
    }
   ],
   "source": [
    "## Here is how we create a numpy array\n",
    "## When we use this, it returns a numpy array, it doesnt change the actural one\n",
    "np.array(list)"
   ]
  },
  {
   "cell_type": "code",
   "execution_count": 18,
   "id": "f8eb4358-be80-4a74-a045-26ad09eefc08",
   "metadata": {},
   "outputs": [
    {
     "data": {
      "text/plain": [
       "list"
      ]
     },
     "execution_count": 18,
     "metadata": {},
     "output_type": "execute_result"
    }
   ],
   "source": [
    "## Here type of actural list does not change \n",
    "type(list)"
   ]
  },
  {
   "cell_type": "code",
   "execution_count": 19,
   "id": "4e1c86da-ec1d-4014-9111-7fda616100b8",
   "metadata": {},
   "outputs": [
    {
     "data": {
      "text/plain": [
       "numpy.ndarray"
      ]
     },
     "execution_count": 19,
     "metadata": {},
     "output_type": "execute_result"
    }
   ],
   "source": [
    "## To change the actural list, We do this\n",
    "list = np.array(list)\n",
    "\n",
    "## Now lets see the type\n",
    "type(list)\n",
    "\n",
    "## Its numpy array "
   ]
  },
  {
   "cell_type": "code",
   "execution_count": 20,
   "id": "63b540d7-6300-4c2e-b413-865fbb850369",
   "metadata": {},
   "outputs": [
    {
     "data": {
      "text/plain": [
       "array([[1, 2, 3],\n",
       "       [4, 5, 6],\n",
       "       [7, 8, 9]])"
      ]
     },
     "execution_count": 20,
     "metadata": {},
     "output_type": "execute_result"
    }
   ],
   "source": [
    "## We can use numpy array with nested arrays as well and it will represent itself in more readble way\n",
    "new_list = [[1,2,3],[4,5,6],[7,8,9]]\n",
    "np.array(new_list)"
   ]
  },
  {
   "cell_type": "code",
   "execution_count": 23,
   "id": "98824f45-9601-4e18-b6ad-5e5e55cfdf6d",
   "metadata": {},
   "outputs": [
    {
     "ename": "ValueError",
     "evalue": "setting an array element with a sequence. The requested array has an inhomogeneous shape after 1 dimensions. The detected shape was (3,) + inhomogeneous part.",
     "output_type": "error",
     "traceback": [
      "\u001b[1;31m---------------------------------------------------------------------------\u001b[0m",
      "\u001b[1;31mValueError\u001b[0m                                Traceback (most recent call last)",
      "Cell \u001b[1;32mIn[23], line 3\u001b[0m\n\u001b[0;32m      1\u001b[0m \u001b[38;5;66;03m## This is what happens when we try to create array other than m x n representation\u001b[39;00m\n\u001b[0;32m      2\u001b[0m new_list \u001b[38;5;241m=\u001b[39m [[\u001b[38;5;241m1\u001b[39m,],[\u001b[38;5;241m4\u001b[39m,\u001b[38;5;241m5\u001b[39m,\u001b[38;5;241m6\u001b[39m],[\u001b[38;5;241m7\u001b[39m,\u001b[38;5;241m8\u001b[39m]]\n\u001b[1;32m----> 3\u001b[0m np\u001b[38;5;241m.\u001b[39marray(new_list)\n",
      "\u001b[1;31mValueError\u001b[0m: setting an array element with a sequence. The requested array has an inhomogeneous shape after 1 dimensions. The detected shape was (3,) + inhomogeneous part."
     ]
    }
   ],
   "source": [
    "## This is what happens when we try to create array other than m x n representation\n",
    "## It will give us an error\n",
    "new_list = [[1,],[4,5,6],[7,8]]\n",
    "np.array(new_list)"
   ]
  },
  {
   "cell_type": "markdown",
   "id": "27eeaa23-fbd9-45b1-906e-489ec97f35f8",
   "metadata": {},
   "source": [
    "## Creating instant numpy arrays with built-in functions"
   ]
  },
  {
   "cell_type": "code",
   "execution_count": 24,
   "id": "8bc54e6d-4695-4f4c-b9ea-f95c9158e3de",
   "metadata": {},
   "outputs": [
    {
     "data": {
      "text/plain": [
       "array([0., 0., 0., 0., 0.])"
      ]
     },
     "execution_count": 24,
     "metadata": {},
     "output_type": "execute_result"
    }
   ],
   "source": [
    "## To create a numpy array with only zeros , we use this\n",
    "np.zeros(5)"
   ]
  },
  {
   "cell_type": "code",
   "execution_count": 29,
   "id": "2b7d2574-9de4-4f85-9fcf-f1f2b8ad3399",
   "metadata": {},
   "outputs": [
    {
     "data": {
      "text/plain": [
       "array([[0., 0., 0.],\n",
       "       [0., 0., 0.],\n",
       "       [0., 0., 0.]])"
      ]
     },
     "execution_count": 29,
     "metadata": {},
     "output_type": "execute_result"
    }
   ],
   "source": [
    "## If we want to create 2d-matrix,we can use like this--\n",
    "\n",
    "np.zeros((3,3))"
   ]
  },
  {
   "cell_type": "code",
   "execution_count": 30,
   "id": "0188b769-610b-4196-b789-d8c8240cb417",
   "metadata": {},
   "outputs": [
    {
     "data": {
      "text/plain": [
       "array([0, 0, 0, 0, 0])"
      ]
     },
     "execution_count": 30,
     "metadata": {},
     "output_type": "execute_result"
    }
   ],
   "source": [
    "## By default it use float data type,We can change it as\n",
    "np.zeros(5,dtype='int')"
   ]
  },
  {
   "cell_type": "code",
   "execution_count": 44,
   "id": "04675445-c8cb-4d9c-abd0-31d95beaf912",
   "metadata": {},
   "outputs": [
    {
     "data": {
      "text/plain": [
       "array([1., 1., 1., 1., 1., 1.])"
      ]
     },
     "execution_count": 44,
     "metadata": {},
     "output_type": "execute_result"
    }
   ],
   "source": [
    "## Similarly, We can create a arrays of one\n",
    "## And same arguments passed as zeros method\n",
    "np.ones(6)"
   ]
  },
  {
   "cell_type": "code",
   "execution_count": 48,
   "id": "33dacb11-de32-4593-918b-6c9eee038433",
   "metadata": {},
   "outputs": [
    {
     "data": {
      "text/plain": [
       "array([[1., 0., 0.],\n",
       "       [0., 1., 0.],\n",
       "       [0., 0., 1.]])"
      ]
     },
     "execution_count": 48,
     "metadata": {},
     "output_type": "execute_result"
    }
   ],
   "source": [
    "## We aslo have method for creating identity matrix\n",
    "## If we pass only one arguemnt then it will create square matrix of that\n",
    "np.eye(3)"
   ]
  },
  {
   "cell_type": "code",
   "execution_count": 49,
   "id": "61228e3b-221d-4c03-9dc1-00ef212ecb19",
   "metadata": {},
   "outputs": [
    {
     "data": {
      "text/plain": [
       "array([[1., 0., 0., 0.],\n",
       "       [0., 1., 0., 0.],\n",
       "       [0., 0., 1., 0.]])"
      ]
     },
     "execution_count": 49,
     "metadata": {},
     "output_type": "execute_result"
    }
   ],
   "source": [
    "## If we pass two argument then we create N-dimensional identity matrix\n",
    "np.eye(3,4)"
   ]
  },
  {
   "cell_type": "markdown",
   "id": "d096a098-8c00-493e-a714-66b380e25c54",
   "metadata": {},
   "source": [
    "### Methods to create numpy array in range"
   ]
  },
  {
   "cell_type": "code",
   "execution_count": 35,
   "id": "9fa17bd8-6be0-486a-a322-d9d0f040393d",
   "metadata": {},
   "outputs": [
    {
     "data": {
      "text/plain": [
       "array([4, 5, 6, 7, 8, 9])"
      ]
     },
     "execution_count": 35,
     "metadata": {},
     "output_type": "execute_result"
    }
   ],
   "source": [
    "## It create numpy array in range\n",
    "np.arange(4,10)"
   ]
  },
  {
   "cell_type": "code",
   "execution_count": 36,
   "id": "59c65dfd-555e-41f7-9e41-efa1b735b118",
   "metadata": {},
   "outputs": [
    {
     "data": {
      "text/plain": [
       "array([1, 3, 5, 7, 9])"
      ]
     },
     "execution_count": 36,
     "metadata": {},
     "output_type": "execute_result"
    }
   ],
   "source": [
    "## We can also pass third argument in arange method\n",
    "## It is taken as 'step' (It create value on an interval of given step)\n",
    "np.arange(1,11,2)"
   ]
  },
  {
   "cell_type": "code",
   "execution_count": 40,
   "id": "1988e4e9-2064-4539-a41f-bf826e566106",
   "metadata": {},
   "outputs": [
    {
     "data": {
      "text/plain": [
       "array([ 1.,  4.,  7., 10.])"
      ]
     },
     "execution_count": 40,
     "metadata": {},
     "output_type": "execute_result"
    }
   ],
   "source": [
    "## We have a similar function just like arange which is linspace\n",
    "## First two arguments are range with last one included\n",
    "## Third one is how many no u want in the given range on equal interval\n",
    "np.linspace(1,10,4)"
   ]
  },
  {
   "cell_type": "markdown",
   "id": "a34671b8-32be-4a87-b1cc-8d9282c40036",
   "metadata": {},
   "source": [
    "### Methods to create numpy array with random values"
   ]
  },
  {
   "cell_type": "code",
   "execution_count": 50,
   "id": "eaeef795-58ac-4d7e-b032-771d90d097eb",
   "metadata": {},
   "outputs": [
    {
     "data": {
      "text/plain": [
       "0.7394315977553527"
      ]
     },
     "execution_count": 50,
     "metadata": {},
     "output_type": "execute_result"
    }
   ],
   "source": [
    "## When we dont pass any arguement then it will give us one random value between 0 and 1\n",
    "np.random.rand()"
   ]
  },
  {
   "cell_type": "code",
   "execution_count": 53,
   "id": "55b7f10c-46ea-41be-add8-4837e267f395",
   "metadata": {},
   "outputs": [
    {
     "data": {
      "text/plain": [
       "array([[0.75221036, 0.50863999, 0.04274735],\n",
       "       [0.58576151, 0.54396489, 0.30322172]])"
      ]
     },
     "execution_count": 53,
     "metadata": {},
     "output_type": "execute_result"
    }
   ],
   "source": [
    "## It takes two arguments as rows and columns\n",
    "np.random.rand(2,3)"
   ]
  },
  {
   "cell_type": "code",
   "execution_count": 55,
   "id": "25023e50-842a-48db-b0d7-64f1d593046b",
   "metadata": {},
   "outputs": [
    {
     "data": {
      "text/plain": [
       "array([16, 16, 15, 11, 16])"
      ]
     },
     "execution_count": 55,
     "metadata": {},
     "output_type": "execute_result"
    }
   ],
   "source": [
    "## We can create random values in range as\n",
    "## First two argument is range\n",
    "## Third is size passed as (rows,columns)\n",
    "np.random.randint(10,20,5)"
   ]
  },
  {
   "cell_type": "code",
   "execution_count": 5,
   "id": "a6da39d7-0fc2-4419-b53c-a05d4970a17e",
   "metadata": {},
   "outputs": [
    {
     "data": {
      "text/plain": [
       "array([[15, 10, 17, 13, 12],\n",
       "       [14, 17, 19, 16, 11],\n",
       "       [11, 18, 17, 19, 15],\n",
       "       [12, 18, 17, 15, 14]])"
      ]
     },
     "execution_count": 5,
     "metadata": {},
     "output_type": "execute_result"
    }
   ],
   "source": [
    "np.random.randint(10,20,(4,5))"
   ]
  },
  {
   "cell_type": "markdown",
   "id": "7ccaf968-0f0f-48ea-b95b-8daa1185a72d",
   "metadata": {},
   "source": [
    "## Methods to use with Numpy arrays"
   ]
  },
  {
   "cell_type": "code",
   "execution_count": 24,
   "id": "41d0e818-a1e6-4eb2-8592-e89d270e43b1",
   "metadata": {},
   "outputs": [
    {
     "data": {
      "text/plain": [
       "array([48, 37, 35,  5, 32, 19, 27, 22, 21,  6])"
      ]
     },
     "execution_count": 24,
     "metadata": {},
     "output_type": "execute_result"
    }
   ],
   "source": [
    "## Creating an array to perfrom operations\n",
    "new_array = np.random.randint(1,50,10)\n",
    "new_array"
   ]
  },
  {
   "cell_type": "code",
   "execution_count": 27,
   "id": "4a7daaa5-cc50-44dd-9dc8-bf634a4a9cbf",
   "metadata": {},
   "outputs": [
    {
     "data": {
      "text/plain": [
       "48"
      ]
     },
     "execution_count": 27,
     "metadata": {},
     "output_type": "execute_result"
    }
   ],
   "source": [
    "## To get the maximum number\n",
    "new_array.max()"
   ]
  },
  {
   "cell_type": "code",
   "execution_count": 28,
   "id": "8d1df3cb-f554-4faa-8ff7-915073669562",
   "metadata": {},
   "outputs": [
    {
     "data": {
      "text/plain": [
       "0"
      ]
     },
     "execution_count": 28,
     "metadata": {},
     "output_type": "execute_result"
    }
   ],
   "source": [
    "## To get the index of max number\n",
    "new_array.argmax()"
   ]
  },
  {
   "cell_type": "code",
   "execution_count": 29,
   "id": "9f80f9d6-f83e-4de8-84e0-00d06a7c6d42",
   "metadata": {},
   "outputs": [
    {
     "data": {
      "text/plain": [
       "5"
      ]
     },
     "execution_count": 29,
     "metadata": {},
     "output_type": "execute_result"
    }
   ],
   "source": [
    "## To get the minimum number\n",
    "new_array.min()"
   ]
  },
  {
   "cell_type": "code",
   "execution_count": 30,
   "id": "84a0e4a4-b739-4ef4-9c92-894a457a7198",
   "metadata": {},
   "outputs": [
    {
     "data": {
      "text/plain": [
       "3"
      ]
     },
     "execution_count": 30,
     "metadata": {},
     "output_type": "execute_result"
    }
   ],
   "source": [
    "## To get the index of min number\n",
    "new_array.argmin()"
   ]
  },
  {
   "cell_type": "code",
   "execution_count": 31,
   "id": "7e9e98fe-b1be-4821-85db-4b9628b1e7a6",
   "metadata": {},
   "outputs": [
    {
     "data": {
      "text/plain": [
       "array([[48, 37],\n",
       "       [35,  5],\n",
       "       [32, 19],\n",
       "       [27, 22],\n",
       "       [21,  6]])"
      ]
     },
     "execution_count": 31,
     "metadata": {},
     "output_type": "execute_result"
    }
   ],
   "source": [
    "## We can reshape any array into any form\n",
    "new_array.reshape(5,2)"
   ]
  },
  {
   "cell_type": "code",
   "execution_count": 32,
   "id": "cd61c82f-389c-4a22-a02a-13b1bd0af38c",
   "metadata": {},
   "outputs": [
    {
     "ename": "ValueError",
     "evalue": "cannot reshape array of size 10 into shape (2,4)",
     "output_type": "error",
     "traceback": [
      "\u001b[1;31m---------------------------------------------------------------------------\u001b[0m",
      "\u001b[1;31mValueError\u001b[0m                                Traceback (most recent call last)",
      "Cell \u001b[1;32mIn[32], line 3\u001b[0m\n\u001b[0;32m      1\u001b[0m \u001b[38;5;66;03m## In original array we had 15 elements\u001b[39;00m\n\u001b[0;32m      2\u001b[0m \u001b[38;5;66;03m## If we try to reshape it into any form other than m x n = 15 , it will give use an error\u001b[39;00m\n\u001b[1;32m----> 3\u001b[0m new_array\u001b[38;5;241m.\u001b[39mreshape(\u001b[38;5;241m2\u001b[39m,\u001b[38;5;241m4\u001b[39m)\n",
      "\u001b[1;31mValueError\u001b[0m: cannot reshape array of size 10 into shape (2,4)"
     ]
    }
   ],
   "source": [
    "## In original array we had 15 elements\n",
    "## If we try to reshape it into any form other than m x n = 15 , it will give use an error\n",
    "new_array.reshape(2,4)"
   ]
  },
  {
   "cell_type": "code",
   "execution_count": 68,
   "id": "251ddbfd-560a-4de2-9e41-810d5b6bf56a",
   "metadata": {},
   "outputs": [
    {
     "data": {
      "text/plain": [
       "dtype('int32')"
      ]
     },
     "execution_count": 68,
     "metadata": {},
     "output_type": "execute_result"
    }
   ],
   "source": [
    "## We can check the data type inside numpy array\n",
    "new_array.dtype"
   ]
  },
  {
   "cell_type": "code",
   "execution_count": 70,
   "id": "bd5e08e7-51dd-495d-8048-79317018942d",
   "metadata": {},
   "outputs": [
    {
     "data": {
      "text/plain": [
       "(9,)"
      ]
     },
     "execution_count": 70,
     "metadata": {},
     "output_type": "execute_result"
    }
   ],
   "source": [
    "## We can check the shape of any array\n",
    "new_array.shape"
   ]
  },
  {
   "cell_type": "markdown",
   "id": "e7987e73-e917-4c31-a15b-c81c68683d9d",
   "metadata": {},
   "source": [
    "## Indexing and Selection of Elements"
   ]
  },
  {
   "cell_type": "code",
   "execution_count": 50,
   "id": "3e84bc1c-6ea1-4856-9fcd-6075567cb0bb",
   "metadata": {},
   "outputs": [
    {
     "data": {
      "text/plain": [
       "array([1, 2, 3, 4, 5, 6, 7, 8, 9])"
      ]
     },
     "execution_count": 50,
     "metadata": {},
     "output_type": "execute_result"
    }
   ],
   "source": [
    "new_array = np.arange(1,10)\n",
    "new_array"
   ]
  },
  {
   "cell_type": "code",
   "execution_count": 51,
   "id": "50ce29bc-dbe3-4cd2-8313-ba35082b1027",
   "metadata": {},
   "outputs": [
    {
     "data": {
      "text/plain": [
       "2"
      ]
     },
     "execution_count": 51,
     "metadata": {},
     "output_type": "execute_result"
    }
   ],
   "source": [
    "## To grab some element\n",
    "## It work similar as in list\n",
    "new_array[1]\n",
    "\n",
    "## We can do the same with 2-d array"
   ]
  },
  {
   "cell_type": "code",
   "execution_count": 52,
   "id": "7d7e0c93-3406-4c51-b780-301d1f5cb66e",
   "metadata": {},
   "outputs": [
    {
     "data": {
      "text/plain": [
       "array([2, 3, 4])"
      ]
     },
     "execution_count": 52,
     "metadata": {},
     "output_type": "execute_result"
    }
   ],
   "source": [
    "## We can slice through an slement as\n",
    "new_array[1:4]"
   ]
  },
  {
   "cell_type": "code",
   "execution_count": 53,
   "id": "09443a1a-6282-4263-93db-c977955e553a",
   "metadata": {},
   "outputs": [
    {
     "data": {
      "text/plain": [
       "array([2, 3, 4, 5, 6, 7, 8, 9])"
      ]
     },
     "execution_count": 53,
     "metadata": {},
     "output_type": "execute_result"
    }
   ],
   "source": [
    "## If we donot know what the ending is\n",
    "new_array[1:]"
   ]
  },
  {
   "cell_type": "code",
   "execution_count": 54,
   "id": "017ad4e7-0ede-4c59-a3d0-61851da44d12",
   "metadata": {},
   "outputs": [
    {
     "data": {
      "text/plain": [
       "array([1, 2, 3, 4, 5])"
      ]
     },
     "execution_count": 54,
     "metadata": {},
     "output_type": "execute_result"
    }
   ],
   "source": [
    "## If we dont know what the starting is\n",
    "new_array[:5]"
   ]
  },
  {
   "cell_type": "code",
   "execution_count": 55,
   "id": "3128532e-8ae5-4a93-a678-6ca78b826977",
   "metadata": {},
   "outputs": [
    {
     "data": {
      "text/plain": [
       "array([  1, 101, 101, 101,   5,   6,   7,   8,   9])"
      ]
     },
     "execution_count": 55,
     "metadata": {},
     "output_type": "execute_result"
    }
   ],
   "source": [
    "## We can also asign some value to the sliced elements\n",
    "new_array[1:4] = 101\n",
    "new_array\n",
    "\n",
    "## Here we can see that it changes the actual array itself"
   ]
  },
  {
   "cell_type": "code",
   "execution_count": 59,
   "id": "a58ac8ba-d1d4-442f-a735-e49cc1803370",
   "metadata": {},
   "outputs": [
    {
     "name": "stdout",
     "output_type": "stream",
     "text": [
      "[  1   2 100 100   5   6   7   8   9]\n",
      "[  2 100 100]\n"
     ]
    }
   ],
   "source": [
    "## If we do like this, then also it changes the actual array\n",
    "new_array = np.arange(1,10)\n",
    "slice_of_array = new_array[1:4]\n",
    "slice_of_array[1:4] = 100\n",
    "\n",
    "print(new_array)\n",
    "print(slice_of_array)"
   ]
  },
  {
   "cell_type": "code",
   "execution_count": 61,
   "id": "d5d5498e-da8a-44fa-82a4-49ac278f328d",
   "metadata": {},
   "outputs": [
    {
     "name": "stdout",
     "output_type": "stream",
     "text": [
      "[99 99 99 99 99 99 99 99 99]\n",
      "[1 2 3 4 5 6 7 8 9]\n"
     ]
    }
   ],
   "source": [
    "## If we dont want to change in the actual array , copy  method is useful\n",
    "new_array = np.arange(1,10)\n",
    "other_array = new_array.copy()\n",
    "other_array[:] = 99\n",
    "\n",
    "print(other_array)\n",
    "print(new_array)"
   ]
  },
  {
   "cell_type": "markdown",
   "id": "97228b87-25dd-413a-8621-64010075464a",
   "metadata": {},
   "source": [
    "#### How to slice through 2-d array"
   ]
  },
  {
   "cell_type": "code",
   "execution_count": 71,
   "id": "003dde36-aa91-4321-8e48-2a8c9e92d81c",
   "metadata": {},
   "outputs": [
    {
     "name": "stdout",
     "output_type": "stream",
     "text": [
      "[[1 2 3]\n",
      " [4 5 6]\n",
      " [7 8 9]]\n"
     ]
    }
   ],
   "source": [
    "arr = np.arange(1,10)\n",
    "arr_2d = arr.reshape(3,3)\n",
    "print(arr_2d)"
   ]
  },
  {
   "cell_type": "code",
   "execution_count": 74,
   "id": "1ad5ea3e-d392-4d34-a585-fe8d84d05157",
   "metadata": {},
   "outputs": [
    {
     "data": {
      "text/plain": [
       "2"
      ]
     },
     "execution_count": 74,
     "metadata": {},
     "output_type": "execute_result"
    }
   ],
   "source": [
    "## To find any particular element\n",
    "arr_2d[0,1]"
   ]
  },
  {
   "cell_type": "code",
   "execution_count": 67,
   "id": "5080edb5-a679-4b5c-9be1-fb3fa6a19279",
   "metadata": {},
   "outputs": [
    {
     "data": {
      "text/plain": [
       "array([[2, 3],\n",
       "       [5, 6]])"
      ]
     },
     "execution_count": 67,
     "metadata": {},
     "output_type": "execute_result"
    }
   ],
   "source": [
    "## To slice through this\n",
    "## First argument represent  row slicing and second argument represent column slicing\n",
    "arr_2d[0:2, 1: ]"
   ]
  },
  {
   "cell_type": "markdown",
   "id": "1b8b4da8-d272-439b-bc44-e557eff1ca77",
   "metadata": {},
   "source": [
    "#### How to filter in an array"
   ]
  },
  {
   "cell_type": "code",
   "execution_count": 76,
   "id": "e0a592a0-4e27-4731-9092-7b7ffdf09071",
   "metadata": {},
   "outputs": [
    {
     "data": {
      "text/plain": [
       "array([ True,  True,  True,  True,  True, False, False, False, False,\n",
       "       False])"
      ]
     },
     "execution_count": 76,
     "metadata": {},
     "output_type": "execute_result"
    }
   ],
   "source": [
    "new_array = np.arange(0,10)\n",
    "\n",
    "new_array < 5\n",
    "## It returns boolean array which follows the condition"
   ]
  },
  {
   "cell_type": "code",
   "execution_count": 77,
   "id": "d7dd45a9-0d56-4f7e-8a0b-3937b09d4dd4",
   "metadata": {},
   "outputs": [
    {
     "data": {
      "text/plain": [
       "array([0, 1, 2, 3, 4])"
      ]
     },
     "execution_count": 77,
     "metadata": {},
     "output_type": "execute_result"
    }
   ],
   "source": [
    "## We can do this directly as--\n",
    "new_array[new_array < 5]"
   ]
  },
  {
   "cell_type": "markdown",
   "id": "49ec520b-f126-4de4-bb6a-d53616a4161a",
   "metadata": {},
   "source": [
    "#### Arithmatic Operations to perform on array"
   ]
  },
  {
   "cell_type": "code",
   "execution_count": 82,
   "id": "5e9c5a2e-f413-43ea-bc4e-17d9e6710a96",
   "metadata": {},
   "outputs": [
    {
     "name": "stdout",
     "output_type": "stream",
     "text": [
      "[0 1 2 3 4 5 6 7 8 9]\n"
     ]
    },
    {
     "data": {
      "text/plain": [
       "array([ 5,  6,  7,  8,  9, 10, 11, 12, 13, 14])"
      ]
     },
     "execution_count": 82,
     "metadata": {},
     "output_type": "execute_result"
    }
   ],
   "source": [
    "new_array = np.arange(0,10)\n",
    "print(new_array)\n",
    "\n",
    "new_array + 5"
   ]
  },
  {
   "cell_type": "code",
   "execution_count": 83,
   "id": "1eefbfec-7ed7-4dfa-a1cc-53b82f572a24",
   "metadata": {},
   "outputs": [
    {
     "data": {
      "text/plain": [
       "array([-5, -4, -3, -2, -1,  0,  1,  2,  3,  4])"
      ]
     },
     "execution_count": 83,
     "metadata": {},
     "output_type": "execute_result"
    }
   ],
   "source": [
    "new_array - 5"
   ]
  },
  {
   "cell_type": "code",
   "execution_count": 84,
   "id": "982565c2-8095-4a2d-bc82-88612ca2959b",
   "metadata": {},
   "outputs": [
    {
     "data": {
      "text/plain": [
       "array([ 0,  5, 10, 15, 20, 25, 30, 35, 40, 45])"
      ]
     },
     "execution_count": 84,
     "metadata": {},
     "output_type": "execute_result"
    }
   ],
   "source": [
    "new_array * 5"
   ]
  },
  {
   "cell_type": "code",
   "execution_count": 91,
   "id": "d221c9b5-d7fa-4e3c-bba0-48ea8ca90835",
   "metadata": {},
   "outputs": [
    {
     "data": {
      "text/plain": [
       "array([0. , 0.2, 0.4, 0.6, 0.8, 1. , 1.2, 1.4, 1.6, 1.8])"
      ]
     },
     "execution_count": 91,
     "metadata": {},
     "output_type": "execute_result"
    }
   ],
   "source": [
    "new_array / 5"
   ]
  },
  {
   "cell_type": "code",
   "execution_count": 93,
   "id": "1bba702a-524b-4308-93ec-a2ece2a71360",
   "metadata": {},
   "outputs": [
    {
     "name": "stderr",
     "output_type": "stream",
     "text": [
      "C:\\Users\\avi88\\AppData\\Local\\Temp\\ipykernel_16640\\614795089.py:1: RuntimeWarning: divide by zero encountered in divide\n",
      "  new_array / 0\n",
      "C:\\Users\\avi88\\AppData\\Local\\Temp\\ipykernel_16640\\614795089.py:1: RuntimeWarning: invalid value encountered in divide\n",
      "  new_array / 0\n"
     ]
    },
    {
     "data": {
      "text/plain": [
       "array([nan, inf, inf, inf, inf, inf, inf, inf, inf, inf])"
      ]
     },
     "execution_count": 93,
     "metadata": {},
     "output_type": "execute_result"
    }
   ],
   "source": [
    "new_array / 0\n",
    "## With list ,it would have give us an error with no output if we would have divide it by 0\n",
    "## Here it is giving us warning but also giving us an output"
   ]
  },
  {
   "cell_type": "code",
   "execution_count": 94,
   "id": "a3f68e60-662a-4490-a4c8-df36436450f5",
   "metadata": {},
   "outputs": [
    {
     "name": "stderr",
     "output_type": "stream",
     "text": [
      "C:\\Users\\avi88\\AppData\\Local\\Temp\\ipykernel_16640\\253149594.py:1: RuntimeWarning: divide by zero encountered in divide\n",
      "  1 / new_array\n"
     ]
    },
    {
     "data": {
      "text/plain": [
       "array([       inf, 1.        , 0.5       , 0.33333333, 0.25      ,\n",
       "       0.2       , 0.16666667, 0.14285714, 0.125     , 0.11111111])"
      ]
     },
     "execution_count": 94,
     "metadata": {},
     "output_type": "execute_result"
    }
   ],
   "source": [
    "## inf means infinity\n",
    "## nan - not a number\n",
    "1 / new_array"
   ]
  },
  {
   "cell_type": "code",
   "execution_count": 86,
   "id": "7120150f-aad7-4d7d-93bf-357998fd3e18",
   "metadata": {},
   "outputs": [
    {
     "data": {
      "text/plain": [
       "array([ 0,  2,  4,  6,  8, 10, 12, 14, 16, 18])"
      ]
     },
     "execution_count": 86,
     "metadata": {},
     "output_type": "execute_result"
    }
   ],
   "source": [
    "## We can perform these arithmatic operation with other arrays also\n",
    "new_array + new_array"
   ]
  },
  {
   "cell_type": "code",
   "execution_count": 90,
   "id": "5302d8bf-d9cd-40ba-bccf-1d9b8f759a46",
   "metadata": {},
   "outputs": [
    {
     "name": "stdout",
     "output_type": "stream",
     "text": [
      "[2 3 4 5 6 7]\n"
     ]
    },
    {
     "ename": "ValueError",
     "evalue": "operands could not be broadcast together with shapes (10,) (6,) ",
     "output_type": "error",
     "traceback": [
      "\u001b[1;31m---------------------------------------------------------------------------\u001b[0m",
      "\u001b[1;31mValueError\u001b[0m                                Traceback (most recent call last)",
      "Cell \u001b[1;32mIn[90], line 3\u001b[0m\n\u001b[0;32m      1\u001b[0m other_array \u001b[38;5;241m=\u001b[39m np\u001b[38;5;241m.\u001b[39marange(\u001b[38;5;241m2\u001b[39m,\u001b[38;5;241m8\u001b[39m)\n\u001b[0;32m      2\u001b[0m \u001b[38;5;28mprint\u001b[39m(other_array)\n\u001b[1;32m----> 3\u001b[0m new_array \u001b[38;5;241m+\u001b[39m other_array\n",
      "\u001b[1;31mValueError\u001b[0m: operands could not be broadcast together with shapes (10,) (6,) "
     ]
    }
   ],
   "source": [
    "other_array = np.arange(2,8)\n",
    "print(other_array)\n",
    "new_array + other_array\n",
    "\n",
    "## if we try to perform arithmatic operations on arrays with different shape then it will give us an error"
   ]
  },
  {
   "cell_type": "markdown",
   "id": "2518e4f6-1f29-4471-a6e0-b381d9af74eb",
   "metadata": {},
   "source": [
    "### Prebuilt methods to perform arithmatic operations on numpy array"
   ]
  },
  {
   "cell_type": "code",
   "execution_count": 101,
   "id": "d35eba0e-8917-473d-a7e6-1d4d00ff54f1",
   "metadata": {},
   "outputs": [
    {
     "data": {
      "text/plain": [
       "45"
      ]
     },
     "execution_count": 101,
     "metadata": {},
     "output_type": "execute_result"
    }
   ],
   "source": [
    "## To get sum of every element\n",
    "new_array.sum()"
   ]
  },
  {
   "cell_type": "code",
   "execution_count": 97,
   "id": "17946697-0feb-4407-a4e6-8cd98b43e1de",
   "metadata": {},
   "outputs": [
    {
     "data": {
      "text/plain": [
       "4.5"
      ]
     },
     "execution_count": 97,
     "metadata": {},
     "output_type": "execute_result"
    }
   ],
   "source": [
    "## To get mean of every element\n",
    "new_array.mean()"
   ]
  },
  {
   "cell_type": "code",
   "execution_count": 98,
   "id": "a978724f-c069-4279-9f12-71c4f3caf30a",
   "metadata": {},
   "outputs": [
    {
     "data": {
      "text/plain": [
       "8.25"
      ]
     },
     "execution_count": 98,
     "metadata": {},
     "output_type": "execute_result"
    }
   ],
   "source": [
    "## To get variance of every element\n",
    "new_array.var()"
   ]
  },
  {
   "cell_type": "code",
   "execution_count": 99,
   "id": "635a4e9c-1be9-4453-8d38-73af4ff387e8",
   "metadata": {},
   "outputs": [
    {
     "data": {
      "text/plain": [
       "0"
      ]
     },
     "execution_count": 99,
     "metadata": {},
     "output_type": "execute_result"
    }
   ],
   "source": [
    "new_array.max()\n",
    "new_array.min()"
   ]
  },
  {
   "cell_type": "code",
   "execution_count": 100,
   "id": "dba41e31-6553-4620-afae-a14cd4b7c206",
   "metadata": {},
   "outputs": [
    {
     "data": {
      "text/plain": [
       "2.8722813232690143"
      ]
     },
     "execution_count": 100,
     "metadata": {},
     "output_type": "execute_result"
    }
   ],
   "source": [
    "## To get standard deviation of every element\n",
    "new_array.std()"
   ]
  },
  {
   "cell_type": "code",
   "execution_count": 4,
   "id": "e66d7d0b-5e65-4315-b4da-8fb54610b8bc",
   "metadata": {},
   "outputs": [
    {
     "data": {
      "text/plain": [
       "array([[1, 2, 3],\n",
       "       [4, 5, 6],\n",
       "       [7, 8, 9]])"
      ]
     },
     "execution_count": 4,
     "metadata": {},
     "output_type": "execute_result"
    }
   ],
   "source": [
    "arr_2d = np.array([[1,2,3],[4,5,6],[7,8,9]])\n",
    "arr_2d"
   ]
  },
  {
   "cell_type": "code",
   "execution_count": 6,
   "id": "56b26eb7-a0c4-49a6-acc5-0ae5af1b6087",
   "metadata": {},
   "outputs": [
    {
     "data": {
      "text/plain": [
       "array([ 6, 15, 24])"
      ]
     },
     "execution_count": 6,
     "metadata": {},
     "output_type": "execute_result"
    }
   ],
   "source": [
    "## To perform operations across rows and columns in 2d array\n",
    "## We can pass axis as first argument in all these methods\n",
    "\n",
    "## axis = 1 means it will give array of sum across rows\n",
    "arr_2d.sum(axis=1)"
   ]
  },
  {
   "cell_type": "code",
   "execution_count": 7,
   "id": "321ca6c5-756a-4f79-9825-30502e991e14",
   "metadata": {},
   "outputs": [
    {
     "data": {
      "text/plain": [
       "array([12, 15, 18])"
      ]
     },
     "execution_count": 7,
     "metadata": {},
     "output_type": "execute_result"
    }
   ],
   "source": [
    "## axis = 0 means it will give array of sum across colums\n",
    "arr_2d.sum(axis=0)"
   ]
  },
  {
   "cell_type": "markdown",
   "id": "84e19d7e-4c3e-4574-8d95-9638aa2b1425",
   "metadata": {},
   "source": [
    "### Other built in numpy method to easily calculate mathematical operations"
   ]
  },
  {
   "cell_type": "code",
   "execution_count": 9,
   "id": "f187be9f-2174-42e9-a24d-fe0596933075",
   "metadata": {},
   "outputs": [
    {
     "data": {
      "text/plain": [
       "array([1, 2, 3, 4, 5, 6, 7, 8, 9])"
      ]
     },
     "execution_count": 9,
     "metadata": {},
     "output_type": "execute_result"
    }
   ],
   "source": [
    "new_array = np.arange(1,10)\n",
    "new_array"
   ]
  },
  {
   "cell_type": "code",
   "execution_count": 10,
   "id": "069e5d11-fe26-4494-8b0e-4402a305ba73",
   "metadata": {},
   "outputs": [
    {
     "data": {
      "text/plain": [
       "array([1.        , 1.41421356, 1.73205081, 2.        , 2.23606798,\n",
       "       2.44948974, 2.64575131, 2.82842712, 3.        ])"
      ]
     },
     "execution_count": 10,
     "metadata": {},
     "output_type": "execute_result"
    }
   ],
   "source": [
    "## To calculate square root of every element\n",
    "np.sqrt(new_array)"
   ]
  },
  {
   "cell_type": "code",
   "execution_count": 13,
   "id": "37ec223a-0f4e-42c1-bb4e-f3796c240bb7",
   "metadata": {},
   "outputs": [
    {
     "data": {
      "text/plain": [
       "array([ 0.84147098,  0.90929743,  0.14112001, -0.7568025 , -0.95892427,\n",
       "       -0.2794155 ,  0.6569866 ,  0.98935825,  0.41211849])"
      ]
     },
     "execution_count": 13,
     "metadata": {},
     "output_type": "execute_result"
    }
   ],
   "source": [
    "## To calculate sin of every element\n",
    "np.sin(new_array)"
   ]
  },
  {
   "cell_type": "code",
   "execution_count": 14,
   "id": "bed4d186-ac48-434b-a1cc-99c15c1972e6",
   "metadata": {},
   "outputs": [
    {
     "data": {
      "text/plain": [
       "array([0.        , 0.69314718, 1.09861229, 1.38629436, 1.60943791,\n",
       "       1.79175947, 1.94591015, 2.07944154, 2.19722458])"
      ]
     },
     "execution_count": 14,
     "metadata": {},
     "output_type": "execute_result"
    }
   ],
   "source": [
    "## To calculate log\n",
    "np.log(new_array)"
   ]
  },
  {
   "cell_type": "code",
   "execution_count": null,
   "id": "dc406333-51d1-4f62-be7e-abf39e4dc55b",
   "metadata": {},
   "outputs": [],
   "source": []
  }
 ],
 "metadata": {
  "kernelspec": {
   "display_name": "Python 3 (ipykernel)",
   "language": "python",
   "name": "python3"
  },
  "language_info": {
   "codemirror_mode": {
    "name": "ipython",
    "version": 3
   },
   "file_extension": ".py",
   "mimetype": "text/x-python",
   "name": "python",
   "nbconvert_exporter": "python",
   "pygments_lexer": "ipython3",
   "version": "3.11.7"
  }
 },
 "nbformat": 4,
 "nbformat_minor": 5
}
